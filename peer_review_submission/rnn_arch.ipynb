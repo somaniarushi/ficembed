{
  "cells": [
    {
      "attachments": {},
      "cell_type": "markdown",
      "metadata": {},
      "source": [
        "# FicEmbed Training Run on Romeo and Juliet"
      ]
    },
    {
      "attachments": {},
      "cell_type": "markdown",
      "metadata": {},
      "source": [
        "## Installs and Imports"
      ]
    },
    {
      "cell_type": "code",
      "execution_count": 1,
      "metadata": {
        "colab": {
          "base_uri": "https://localhost:8080/"
        },
        "id": "_38G5xgXa7JX",
        "outputId": "55888f6f-5ac6-4afe-ffcb-91e5012d05b3"
      },
      "outputs": [
        {
          "name": "stdout",
          "output_type": "stream",
          "text": [
            "Requirement already satisfied: tqdm in /home/amks/ficembed/env/lib/python3.7/site-packages (4.65.0)\n",
            "Requirement already satisfied: boto3 in /home/amks/ficembed/env/lib/python3.7/site-packages (1.26.120)\n",
            "Requirement already satisfied: requests in /home/amks/ficembed/env/lib/python3.7/site-packages (2.28.2)\n",
            "Requirement already satisfied: regex in /home/amks/ficembed/env/lib/python3.7/site-packages (2022.10.31)\n",
            "Requirement already satisfied: sentencepiece in /home/amks/ficembed/env/lib/python3.7/site-packages (0.1.98)\n",
            "Requirement already satisfied: sacremoses in /home/amks/ficembed/env/lib/python3.7/site-packages (0.0.53)\n",
            "Requirement already satisfied: botocore<1.30.0,>=1.29.120 in /home/amks/ficembed/env/lib/python3.7/site-packages (from boto3) (1.29.120)\n",
            "Requirement already satisfied: jmespath<2.0.0,>=0.7.1 in /home/amks/ficembed/env/lib/python3.7/site-packages (from boto3) (1.0.1)\n",
            "Requirement already satisfied: s3transfer<0.7.0,>=0.6.0 in /home/amks/ficembed/env/lib/python3.7/site-packages (from boto3) (0.6.0)\n",
            "Requirement already satisfied: charset-normalizer<4,>=2 in /home/amks/ficembed/env/lib/python3.7/site-packages (from requests) (3.1.0)\n",
            "Requirement already satisfied: idna<4,>=2.5 in /home/amks/ficembed/env/lib/python3.7/site-packages (from requests) (3.4)\n",
            "Requirement already satisfied: urllib3<1.27,>=1.21.1 in /home/amks/ficembed/env/lib/python3.7/site-packages (from requests) (1.26.15)\n",
            "Requirement already satisfied: certifi>=2017.4.17 in /home/amks/ficembed/env/lib/python3.7/site-packages (from requests) (2022.12.7)\n",
            "Requirement already satisfied: six in /home/amks/ficembed/env/lib/python3.7/site-packages (from sacremoses) (1.16.0)\n",
            "Requirement already satisfied: click in /home/amks/ficembed/env/lib/python3.7/site-packages (from sacremoses) (8.1.3)\n",
            "Requirement already satisfied: joblib in /home/amks/ficembed/env/lib/python3.7/site-packages (from sacremoses) (1.2.0)\n",
            "Requirement already satisfied: python-dateutil<3.0.0,>=2.1 in /home/amks/ficembed/env/lib/python3.7/site-packages (from botocore<1.30.0,>=1.29.120->boto3) (2.8.2)\n",
            "Requirement already satisfied: importlib-metadata in /home/amks/ficembed/env/lib/python3.7/site-packages (from click->sacremoses) (6.6.0)\n",
            "Requirement already satisfied: zipp>=0.5 in /home/amks/ficembed/env/lib/python3.7/site-packages (from importlib-metadata->click->sacremoses) (3.15.0)\n",
            "Requirement already satisfied: typing-extensions>=3.6.4 in /home/amks/ficembed/env/lib/python3.7/site-packages (from importlib-metadata->click->sacremoses) (4.5.0)\n",
            "Requirement already satisfied: transformers in /home/amks/ficembed/env/lib/python3.7/site-packages (4.28.1)\n",
            "Requirement already satisfied: filelock in /home/amks/ficembed/env/lib/python3.7/site-packages (from transformers) (3.12.0)\n",
            "Requirement already satisfied: huggingface-hub<1.0,>=0.11.0 in /home/amks/ficembed/env/lib/python3.7/site-packages (from transformers) (0.14.1)\n",
            "Requirement already satisfied: numpy>=1.17 in /home/amks/ficembed/env/lib/python3.7/site-packages (from transformers) (1.21.6)\n",
            "Requirement already satisfied: packaging>=20.0 in /home/amks/ficembed/env/lib/python3.7/site-packages (from transformers) (23.1)\n",
            "Requirement already satisfied: pyyaml>=5.1 in /home/amks/ficembed/env/lib/python3.7/site-packages (from transformers) (6.0)\n",
            "Requirement already satisfied: regex!=2019.12.17 in /home/amks/ficembed/env/lib/python3.7/site-packages (from transformers) (2022.10.31)\n",
            "Requirement already satisfied: requests in /home/amks/ficembed/env/lib/python3.7/site-packages (from transformers) (2.28.2)\n",
            "Requirement already satisfied: tokenizers!=0.11.3,<0.14,>=0.11.1 in /home/amks/ficembed/env/lib/python3.7/site-packages (from transformers) (0.13.3)\n",
            "Requirement already satisfied: tqdm>=4.27 in /home/amks/ficembed/env/lib/python3.7/site-packages (from transformers) (4.65.0)\n",
            "Requirement already satisfied: importlib-metadata in /home/amks/ficembed/env/lib/python3.7/site-packages (from transformers) (6.6.0)\n",
            "Requirement already satisfied: fsspec in /home/amks/ficembed/env/lib/python3.7/site-packages (from huggingface-hub<1.0,>=0.11.0->transformers) (2023.1.0)\n",
            "Requirement already satisfied: typing-extensions>=3.7.4.3 in /home/amks/ficembed/env/lib/python3.7/site-packages (from huggingface-hub<1.0,>=0.11.0->transformers) (4.5.0)\n",
            "Requirement already satisfied: zipp>=0.5 in /home/amks/ficembed/env/lib/python3.7/site-packages (from importlib-metadata->transformers) (3.15.0)\n",
            "Requirement already satisfied: charset-normalizer<4,>=2 in /home/amks/ficembed/env/lib/python3.7/site-packages (from requests->transformers) (3.1.0)\n",
            "Requirement already satisfied: idna<4,>=2.5 in /home/amks/ficembed/env/lib/python3.7/site-packages (from requests->transformers) (3.4)\n",
            "Requirement already satisfied: urllib3<1.27,>=1.21.1 in /home/amks/ficembed/env/lib/python3.7/site-packages (from requests->transformers) (1.26.15)\n",
            "Requirement already satisfied: certifi>=2017.4.17 in /home/amks/ficembed/env/lib/python3.7/site-packages (from requests->transformers) (2022.12.7)\n",
            "Requirement already satisfied: torch in /home/amks/ficembed/env/lib/python3.7/site-packages (1.13.1)\n",
            "Requirement already satisfied: typing-extensions in /home/amks/ficembed/env/lib/python3.7/site-packages (from torch) (4.5.0)\n",
            "Requirement already satisfied: nvidia-cuda-runtime-cu11==11.7.99 in /home/amks/ficembed/env/lib/python3.7/site-packages (from torch) (11.7.99)\n",
            "Requirement already satisfied: nvidia-cudnn-cu11==8.5.0.96 in /home/amks/ficembed/env/lib/python3.7/site-packages (from torch) (8.5.0.96)\n",
            "Requirement already satisfied: nvidia-cublas-cu11==11.10.3.66 in /home/amks/ficembed/env/lib/python3.7/site-packages (from torch) (11.10.3.66)\n",
            "Requirement already satisfied: nvidia-cuda-nvrtc-cu11==11.7.99 in /home/amks/ficembed/env/lib/python3.7/site-packages (from torch) (11.7.99)\n",
            "Requirement already satisfied: setuptools in /home/amks/ficembed/env/lib/python3.7/site-packages (from nvidia-cublas-cu11==11.10.3.66->torch) (47.1.0)\n",
            "Requirement already satisfied: wheel in /home/amks/ficembed/env/lib/python3.7/site-packages (from nvidia-cublas-cu11==11.10.3.66->torch) (0.40.0)\n"
          ]
        }
      ],
      "source": [
        "!pip install tqdm boto3 requests regex sentencepiece sacremoses\n",
        "!pip install transformers\n",
        "!pip install torch"
      ]
    },
    {
      "cell_type": "code",
      "execution_count": 14,
      "metadata": {
        "id": "9Hx_i3KkIyZQ"
      },
      "outputs": [],
      "source": [
        "import torch\n",
        "import torch.nn as nn\n",
        "import numpy as np\n",
        "import pandas as pd\n",
        "import matplotlib.pyplot as plt\n",
        "import tqdm\n",
        "from sklearn.manifold import TSNE\n",
        "import plotly.express as px\n",
        "import pickle"
      ]
    },
    {
      "cell_type": "code",
      "execution_count": 15,
      "metadata": {},
      "outputs": [
        {
          "data": {
            "text/plain": [
              "'cuda'"
            ]
          },
          "execution_count": 15,
          "metadata": {},
          "output_type": "execute_result"
        }
      ],
      "source": [
        "torch_device = 'cuda' if torch.cuda.is_available() else 'cpu'\n",
        "torch_device"
      ]
    },
    {
      "attachments": {},
      "cell_type": "markdown",
      "metadata": {},
      "source": [
        "## Network Architecture"
      ]
    },
    {
      "cell_type": "code",
      "execution_count": 16,
      "metadata": {
        "id": "AuzRl0mYl9i5"
      },
      "outputs": [],
      "source": [
        "class GraphConvolution(torch.nn.Module):\n",
        "    def __init__(self, character_embedding_dim, edge_dim):\n",
        "        super(GraphConvolution, self).__init__()\n",
        "\n",
        "        self.ce_dim = character_embedding_dim\n",
        "        self.e_dim = edge_dim\n",
        "\n",
        "        self.activation = nn.Sigmoid()\n",
        "        \n",
        "        self.message_to_listener = nn.Sequential(nn.Linear(character_embedding_dim + edge_dim, character_embedding_dim),\n",
        "                                                self.activation)\n",
        "        \n",
        "        self.message_to_speaker = nn.Sequential(nn.Linear(character_embedding_dim + edge_dim, character_embedding_dim),\n",
        "                                                self.activation)\n",
        "        \n",
        "        self.listener_update = nn.Sequential(nn.Linear(character_embedding_dim, character_embedding_dim), self.activation)\n",
        "        self.speaker_update = nn.Sequential(nn.Linear(character_embedding_dim, character_embedding_dim), self.activation)\n",
        "\n",
        "    def forward(self, character_embeddings, dialogue_embeddings, speakers, listeners):\n",
        "        '''\n",
        "          -> (speakers intersect listeners) should be an empty set!\n",
        "        '''\n",
        "\n",
        "        character_embeddings = character_embeddings.detach()\n",
        "\n",
        "        speaker_features = character_embeddings[speakers, :]\n",
        "        listener_features = character_embeddings[listeners, :]\n",
        "\n",
        "        speaker_listener_dialogue =  torch.cat((speaker_features - listener_features, dialogue_embeddings), dim=-1)\n",
        "\n",
        "        # Residual connection included to avoid dying gradients\n",
        "        updated_speakers = self.speaker_update(speaker_features + self.message_to_listener(speaker_listener_dialogue)) + speaker_features \n",
        "        updated_listeners = self.listener_update(listener_features + self.message_to_speaker(speaker_listener_dialogue)) + listener_features \n",
        "\n",
        "        out = character_embeddings.clone()\n",
        "        out[speakers, :] = updated_speakers\n",
        "        out[listeners, :] = updated_listeners\n",
        "\n",
        "        return out\n",
        "\n",
        "class GCLWithHeadBert(torch.nn.Module):\n",
        "  def __init__(self, character_embedding_dim, bert_dim, edge_dim, out_dim):\n",
        "    super(GCLWithHeadBert, self).__init__()\n",
        "\n",
        "    self.bert_dim = bert_dim\n",
        "    # Maps 2 * character_embedding_dim to out_dim\n",
        "    # Add a Transformer layer as head + edge_translator\n",
        "    self.head = nn.Sequential(nn.Linear(2 * character_embedding_dim, out_dim),\n",
        "                                nn.ReLU(),\n",
        "                                nn.Linear(out_dim, out_dim))\n",
        "    self.edge_translator = nn.Linear(bert_dim, edge_dim)\n",
        "    self.gcn_layer = GraphConvolution(character_embedding_dim, edge_dim)\n",
        "    self.activation = nn.Sigmoid()\n",
        "\n",
        "  def forward(self, character_embeddings, embedding, speaker, listener):\n",
        "    edge_feature = self.activation(self.edge_translator(embedding.detach())[None, :])\n",
        "    updated_embeddings = self.gcn_layer(character_embeddings, edge_feature, speaker, listener)\n",
        "    linear_layer_out = self.activation(self.head(torch.cat((updated_embeddings[speaker, :], updated_embeddings[listener, :]), axis=1)))\n",
        "    return updated_embeddings, linear_layer_out"
      ]
    },
    {
      "attachments": {},
      "cell_type": "markdown",
      "metadata": {},
      "source": [
        "## Data Import and Wrangling"
      ]
    },
    {
      "cell_type": "code",
      "execution_count": 17,
      "metadata": {
        "colab": {
          "base_uri": "https://localhost:8080/"
        },
        "id": "LW_flFhRO_vI",
        "outputId": "2e1e0ad3-ec89-48ff-d54d-ab3519f5276f"
      },
      "outputs": [
        {
          "data": {
            "text/html": [
              "<div>\n",
              "<style scoped>\n",
              "    .dataframe tbody tr th:only-of-type {\n",
              "        vertical-align: middle;\n",
              "    }\n",
              "\n",
              "    .dataframe tbody tr th {\n",
              "        vertical-align: top;\n",
              "    }\n",
              "\n",
              "    .dataframe thead th {\n",
              "        text-align: right;\n",
              "    }\n",
              "</style>\n",
              "<table border=\"1\" class=\"dataframe\">\n",
              "  <thead>\n",
              "    <tr style=\"text-align: right;\">\n",
              "      <th></th>\n",
              "      <th>speaker</th>\n",
              "      <th>listener</th>\n",
              "      <th>speaker_index</th>\n",
              "      <th>listener_index</th>\n",
              "      <th>dialogue</th>\n",
              "      <th>dialogue_sentiment</th>\n",
              "      <th>avg_sentiment</th>\n",
              "      <th>bert</th>\n",
              "    </tr>\n",
              "  </thead>\n",
              "  <tbody>\n",
              "    <tr>\n",
              "      <th>0</th>\n",
              "      <td>CHORUS</td>\n",
              "      <td>SAMPSON</td>\n",
              "      <td>0</td>\n",
              "      <td>1</td>\n",
              "      <td>Two households, both alike in dignity, In fair...</td>\n",
              "      <td>-0.5719</td>\n",
              "      <td>-0.5719</td>\n",
              "      <td>[-0.062187887728214264, 0.04341184347867966, 0...</td>\n",
              "    </tr>\n",
              "    <tr>\n",
              "      <th>1</th>\n",
              "      <td>SAMPSON</td>\n",
              "      <td>CHORUS</td>\n",
              "      <td>1</td>\n",
              "      <td>0</td>\n",
              "      <td>Gregory, on my word, we’ll not carry coals.</td>\n",
              "      <td>0.0</td>\n",
              "      <td>0.0</td>\n",
              "      <td>[-0.14115169644355774, 0.5629909634590149, -0....</td>\n",
              "    </tr>\n",
              "    <tr>\n",
              "      <th>2</th>\n",
              "      <td>SAMPSON</td>\n",
              "      <td>GREGORY</td>\n",
              "      <td>1</td>\n",
              "      <td>2</td>\n",
              "      <td>Gregory, on my word, we’ll not carry coals.</td>\n",
              "      <td>0.0</td>\n",
              "      <td>-0.062038</td>\n",
              "      <td>[-0.14115169644355774, 0.5629909634590149, -0....</td>\n",
              "    </tr>\n",
              "    <tr>\n",
              "      <th>3</th>\n",
              "      <td>GREGORY</td>\n",
              "      <td>SAMPSON</td>\n",
              "      <td>2</td>\n",
              "      <td>1</td>\n",
              "      <td>No, for then we should be colliers.</td>\n",
              "      <td>0.0</td>\n",
              "      <td>-0.087993</td>\n",
              "      <td>[-0.1291680932044983, 0.28564387559890747, -0....</td>\n",
              "    </tr>\n",
              "    <tr>\n",
              "      <th>4</th>\n",
              "      <td>GREGORY</td>\n",
              "      <td>SAMPSON</td>\n",
              "      <td>2</td>\n",
              "      <td>1</td>\n",
              "      <td>No, for then we should be colliers.</td>\n",
              "      <td>0.0</td>\n",
              "      <td>-0.087993</td>\n",
              "      <td>[-0.1291680932044983, 0.28564387559890747, -0....</td>\n",
              "    </tr>\n",
              "    <tr>\n",
              "      <th>...</th>\n",
              "      <td>...</td>\n",
              "      <td>...</td>\n",
              "      <td>...</td>\n",
              "      <td>...</td>\n",
              "      <td>...</td>\n",
              "      <td>...</td>\n",
              "      <td>...</td>\n",
              "      <td>...</td>\n",
              "    </tr>\n",
              "    <tr>\n",
              "      <th>1681</th>\n",
              "      <td>MONTAGUE</td>\n",
              "      <td>CAPULET</td>\n",
              "      <td>9</td>\n",
              "      <td>7</td>\n",
              "      <td>But I can give thee more, For I will raise her...</td>\n",
              "      <td>0.6956</td>\n",
              "      <td>0.2643</td>\n",
              "      <td>[-0.30834853649139404, -0.08796899765729904, -...</td>\n",
              "    </tr>\n",
              "    <tr>\n",
              "      <th>1682</th>\n",
              "      <td>MONTAGUE</td>\n",
              "      <td>CAPULET</td>\n",
              "      <td>9</td>\n",
              "      <td>7</td>\n",
              "      <td>But I can give thee more, For I will raise her...</td>\n",
              "      <td>0.6956</td>\n",
              "      <td>0.2643</td>\n",
              "      <td>[-0.30834853649139404, -0.08796899765729904, -...</td>\n",
              "    </tr>\n",
              "    <tr>\n",
              "      <th>1683</th>\n",
              "      <td>CAPULET</td>\n",
              "      <td>MONTAGUE</td>\n",
              "      <td>7</td>\n",
              "      <td>9</td>\n",
              "      <td>As rich shall Romeo’s by his lady’s lie, Poor ...</td>\n",
              "      <td>0.128</td>\n",
              "      <td>-0.127267</td>\n",
              "      <td>[-0.21812646090984344, 0.143050417304039, -0.1...</td>\n",
              "    </tr>\n",
              "    <tr>\n",
              "      <th>1684</th>\n",
              "      <td>CAPULET</td>\n",
              "      <td>PRINCE</td>\n",
              "      <td>7</td>\n",
              "      <td>11</td>\n",
              "      <td>As rich shall Romeo’s by his lady’s lie, Poor ...</td>\n",
              "      <td>0.128</td>\n",
              "      <td>0.062967</td>\n",
              "      <td>[-0.21812646090984344, 0.143050417304039, -0.1...</td>\n",
              "    </tr>\n",
              "    <tr>\n",
              "      <th>1685</th>\n",
              "      <td>PRINCE</td>\n",
              "      <td>CAPULET</td>\n",
              "      <td>11</td>\n",
              "      <td>7</td>\n",
              "      <td>A glooming peace this morning with it brings; ...</td>\n",
              "      <td>-0.8977</td>\n",
              "      <td>-0.597733</td>\n",
              "      <td>[-0.19742143154144287, -0.18241626024246216, 0...</td>\n",
              "    </tr>\n",
              "  </tbody>\n",
              "</table>\n",
              "<p>1686 rows × 8 columns</p>\n",
              "</div>"
            ],
            "text/plain": [
              "       speaker  listener speaker_index listener_index  \\\n",
              "0       CHORUS   SAMPSON             0              1   \n",
              "1      SAMPSON    CHORUS             1              0   \n",
              "2      SAMPSON   GREGORY             1              2   \n",
              "3      GREGORY   SAMPSON             2              1   \n",
              "4      GREGORY   SAMPSON             2              1   \n",
              "...        ...       ...           ...            ...   \n",
              "1681  MONTAGUE   CAPULET             9              7   \n",
              "1682  MONTAGUE   CAPULET             9              7   \n",
              "1683   CAPULET  MONTAGUE             7              9   \n",
              "1684   CAPULET    PRINCE             7             11   \n",
              "1685    PRINCE   CAPULET            11              7   \n",
              "\n",
              "                                               dialogue dialogue_sentiment  \\\n",
              "0     Two households, both alike in dignity, In fair...            -0.5719   \n",
              "1           Gregory, on my word, we’ll not carry coals.                0.0   \n",
              "2           Gregory, on my word, we’ll not carry coals.                0.0   \n",
              "3                   No, for then we should be colliers.                0.0   \n",
              "4                   No, for then we should be colliers.                0.0   \n",
              "...                                                 ...                ...   \n",
              "1681  But I can give thee more, For I will raise her...             0.6956   \n",
              "1682  But I can give thee more, For I will raise her...             0.6956   \n",
              "1683  As rich shall Romeo’s by his lady’s lie, Poor ...              0.128   \n",
              "1684  As rich shall Romeo’s by his lady’s lie, Poor ...              0.128   \n",
              "1685  A glooming peace this morning with it brings; ...            -0.8977   \n",
              "\n",
              "     avg_sentiment                                               bert  \n",
              "0          -0.5719  [-0.062187887728214264, 0.04341184347867966, 0...  \n",
              "1              0.0  [-0.14115169644355774, 0.5629909634590149, -0....  \n",
              "2        -0.062038  [-0.14115169644355774, 0.5629909634590149, -0....  \n",
              "3        -0.087993  [-0.1291680932044983, 0.28564387559890747, -0....  \n",
              "4        -0.087993  [-0.1291680932044983, 0.28564387559890747, -0....  \n",
              "...            ...                                                ...  \n",
              "1681        0.2643  [-0.30834853649139404, -0.08796899765729904, -...  \n",
              "1682        0.2643  [-0.30834853649139404, -0.08796899765729904, -...  \n",
              "1683     -0.127267  [-0.21812646090984344, 0.143050417304039, -0.1...  \n",
              "1684      0.062967  [-0.21812646090984344, 0.143050417304039, -0.1...  \n",
              "1685     -0.597733  [-0.19742143154144287, -0.18241626024246216, 0...  \n",
              "\n",
              "[1686 rows x 8 columns]"
            ]
          },
          "execution_count": 17,
          "metadata": {},
          "output_type": "execute_result"
        }
      ],
      "source": [
        "df_dialogs = pd.read_csv('rj_vadr_bert.csv').drop(columns=[\"Unnamed: 0\"])\n",
        "character_enum = pd.DataFrame(df_dialogs[\"speaker\"].unique()).reset_index().rename(columns={0:'character'})\n",
        "df_dialogs_with_speaker_enumeration = pd.merge(left=df_dialogs,\n",
        "                                       right=character_enum,\n",
        "                                       left_on=\"speaker\",\n",
        "                                       right_on=\"character\",\n",
        "                                       how=\"left\").rename(columns={'index': 'speaker_index'}).drop(columns=['character'])\n",
        "df_dialogs_with_listener_enumeration = pd.merge(left=df_dialogs_with_speaker_enumeration,\n",
        "                                       right=character_enum,\n",
        "                                       left_on=\"listener\",\n",
        "                                       right_on=\"character\",\n",
        "                                       how=\"left\").rename(columns={'index': 'listener_index'}).drop(columns=['character'])\n",
        "data_d = df_dialogs_with_listener_enumeration[['speaker', 'listener', 'speaker_index', 'listener_index', 'dialogue', 'dialogue_sentiment', 'avg_sentiment', 'bert']]\n",
        "data = data_d.T.drop_duplicates().T\n",
        "data"
      ]
    },
    {
      "cell_type": "code",
      "execution_count": 18,
      "metadata": {
        "id": "TKCugQFms19r"
      },
      "outputs": [
        {
          "name": "stdout",
          "output_type": "stream",
          "text": [
            "Sizes: train 1011, valid 337, test 338\n"
          ]
        }
      ],
      "source": [
        "train_data = data.iloc[:int(0.6*len(data))]\n",
        "valid_data = data.iloc[int(0.6*len(data)):int(0.8*len(data))]\n",
        "test_data = data.iloc[int(0.8*len(data)):]\n",
        "print(f\"Sizes: train {len(train_data)}, valid {len(valid_data)}, test {len(test_data)}\")"
      ]
    },
    {
      "cell_type": "code",
      "execution_count": 19,
      "metadata": {},
      "outputs": [
        {
          "name": "stderr",
          "output_type": "stream",
          "text": [
            "/home/amks/ficembed/env/lib/python3.7/site-packages/ipykernel_launcher.py:10: SettingWithCopyWarning: \n",
            "A value is trying to be set on a copy of a slice from a DataFrame.\n",
            "Try using .loc[row_indexer,col_indexer] = value instead\n",
            "\n",
            "See the caveats in the documentation: https://pandas.pydata.org/pandas-docs/stable/user_guide/indexing.html#returning-a-view-versus-a-copy\n",
            "  # Remove the CWD from sys.path while we load stuff.\n"
          ]
        }
      ],
      "source": [
        "# Ground truth labels are given by datapoint['dialogue_sentiment']\n",
        "# Smooth out the labels, moving them away from extreme values like 0, 1 and -1. You may use datapoint['avg_sentiment'] to do this.\n",
        "\n",
        "def smooth_labels(labels, smooth_factor=0.1):\n",
        "    labels *= (1 - smooth_factor)\n",
        "    labels += smooth_factor / labels.shape[0]\n",
        "    return labels\n",
        "\n",
        "for dataset in [train_data, valid_data, test_data]:\n",
        "    dataset['smoothed_dialogue_sentiment'] = smooth_labels(dataset['dialogue_sentiment'].values)"
      ]
    },
    {
      "attachments": {},
      "cell_type": "markdown",
      "metadata": {},
      "source": [
        "## Training"
      ]
    },
    {
      "attachments": {},
      "cell_type": "markdown",
      "metadata": {},
      "source": [
        "Note: With the values of hyperparameters, as given, training takes ~20 minutes!"
      ]
    },
    {
      "cell_type": "code",
      "execution_count": 20,
      "metadata": {},
      "outputs": [],
      "source": [
        "# Data extraction functions \n",
        "def get_ground_truth(datapoint, smoothed=True):\n",
        "    if smoothed:\n",
        "        return datapoint['smoothed_dialogue_sentiment']\n",
        "    else:\n",
        "        return datapoint['dialogue_sentiment']\n",
        "\n",
        "def get_bert_embedding(datapoint):\n",
        "    return datapoint['bert']\n",
        "\n",
        "def get_speaker(datapoint):\n",
        "    return datapoint['speaker_index']\n",
        "\n",
        "def get_listener(datapoint):\n",
        "    return datapoint['listener_index']\n",
        "\n",
        "def get_dialogue(datapoint):\n",
        "    return datapoint['dialogue']"
      ]
    },
    {
      "cell_type": "code",
      "execution_count": 21,
      "metadata": {},
      "outputs": [],
      "source": [
        "def run_validation(model, criterion, character_embeddings, valid_data, hyperparameters):\n",
        "    \"\"\"\n",
        "    Returns average validation loss for a given model and validation dataset.\n",
        "    \"\"\"\n",
        "    val_losses = []\n",
        "    for index, row in valid_data.iterrows():\n",
        "        dialog_gt = get_ground_truth(row, smoothed=hyperparameters['smooth_labels'])\n",
        "        y = torch.tensor(dialog_gt).view(-1, 1).to(torch_device) \n",
        "\n",
        "        # Fetch embeddings\n",
        "        bert_val = get_bert_embedding(row)\n",
        "        bert_row = np.array([float(val) for val in bert_val.strip('][').split(', ')])\n",
        "        bert_embed = torch.from_numpy(bert_row).float().to(torch_device)\n",
        "\n",
        "        # Fetch speaker and listener\n",
        "        speaker = torch.tensor([row['speaker_index']]).to(torch_device)\n",
        "        listener = torch.tensor([row['listener_index']]).to(torch_device)\n",
        "\n",
        "        with torch.no_grad():\n",
        "            _, output = model(character_embeddings, bert_embed, speaker, listener)\n",
        "        loss = criterion(output, y)\n",
        "        val_losses.append(loss.item())\n",
        "\n",
        "    return np.mean(val_losses)"
      ]
    },
    {
      "cell_type": "code",
      "execution_count": null,
      "metadata": {
        "colab": {
          "base_uri": "https://localhost:8080/",
          "height": 1000
        },
        "id": "nEaMiMEQlmDW",
        "outputId": "d8296060-00c2-4a7c-b2cd-b07258fa24c4"
      },
      "outputs": [],
      "source": [
        "def train_loop(model, optimizer, criterion, scheduler, character_embeddings, train_data, valid_data, hyperparameters, print_every = 1000):\n",
        "  # Character embeddings are randomly initialized\n",
        "  torch.autograd.set_detect_anomaly(True)\n",
        "  losses = {}\n",
        "  all_losses = []\n",
        "  val_losses = []\n",
        "\n",
        "  print('Running training dialogues:', len(train_data))\n",
        "  epochs = hyperparameters['epochs']\n",
        "  iters_per_dialog = hyperparameters['iters_per_dialog']\n",
        "  for epoch in range(epochs):\n",
        "    for index, row in tqdm.tqdm(train_data.iterrows()):\n",
        "      for j in range(iters_per_dialog):\n",
        "\n",
        "        # Fetch ground truth\n",
        "        dialog_gt = get_ground_truth(row, smoothed=hyperparameters['smooth_labels'])\n",
        "        y = torch.tensor(dialog_gt).view(-1, 1).to(torch_device) \n",
        "\n",
        "        # Fetch embeddings\n",
        "        bert_val = get_bert_embedding(row)\n",
        "        bert_row = np.array([float(val) for val in bert_val.strip('][').split(', ')])\n",
        "        bert_embed = torch.from_numpy(bert_row).float().to(torch_device)\n",
        "\n",
        "        # Fetch speaker and listener\n",
        "        speaker = torch.tensor([get_speaker(row)]).to(torch_device)\n",
        "        listener = torch.tensor([get_listener(row)]).to(torch_device)\n",
        "\n",
        "        character_embeddings, y_pred = model(character_embeddings, bert_embed, speaker, \n",
        "                                            listener) \n",
        "        \n",
        "        # Compute and print loss\n",
        "        loss = criterion(y_pred, y)\n",
        "        all_losses.append(loss.item())\n",
        "\n",
        "        optimizer.zero_grad()\n",
        "        loss.backward()\n",
        "        optimizer.step()\n",
        "\n",
        "        if index % print_every == 0 and j == iters_per_dialog - 1:\n",
        "          plt.plot(all_losses)\n",
        "          plt.xlim(0, len(train_data) * epochs * 2)\n",
        "          plt.xlabel('Iteration')\n",
        "          plt.ylabel('Loss')\n",
        "          plt.title('Training loss')\n",
        "          plt.show()\n",
        "          avg_of_last_print_every_losses = np.mean(all_losses[-print_every:])\n",
        "          print(f'Epoch {epoch}, loss {avg_of_last_print_every_losses}')\n",
        "      \n",
        "        chars = [row['speaker'], row['listener']]\n",
        "        chars.sort()\n",
        "        key = chars[0] + ';' + chars[1]\n",
        "        losses[key] = losses.get(key, [])\n",
        "        losses[key].append(loss.cpu().detach().numpy())\n",
        "\n",
        "        all_losses += [float(loss.cpu().detach().numpy())] \n",
        "    \n",
        "    # calculate validation loss\n",
        "    val_loss = run_validation(model, criterion, character_embeddings, valid_data, hyperparameters)\n",
        "    val_losses.append(val_loss)\n",
        "    print(f'Epoch {epoch}, validation loss {val_loss}')\n",
        "\n",
        "    # update learning rate\n",
        "    scheduler.step(val_loss)\n",
        "  \n",
        "  return losses, all_losses, val_losses"
      ]
    },
    {
      "cell_type": "code",
      "execution_count": 23,
      "metadata": {},
      "outputs": [],
      "source": [
        "# Complex loss function \n",
        "class SignedMSELoss(nn.Module):\n",
        "    def __init__(self, alpha=0.9, beta=0.1):\n",
        "        super().__init__()\n",
        "        self.alpha = alpha\n",
        "        self.beta = beta\n",
        "\n",
        "    def forward(self, y_pred, y_true):\n",
        "        mse_loss = nn.MSELoss()(y_pred, y_true)\n",
        "        hinge_loss = torch.max(torch.zeros_like(y_true), 1 - y_true * y_pred)\n",
        "        signed_loss = self.alpha * mse_loss + self.beta * hinge_loss.mean()\n",
        "        return signed_loss"
      ]
    },
    {
      "cell_type": "code",
      "execution_count": 24,
      "metadata": {},
      "outputs": [],
      "source": [
        "# Learning rate scheduler to prevent overfitting\n",
        "def get_scheduler(optimizer):\n",
        "    scheduler = torch.optim.lr_scheduler.ReduceLROnPlateau(optimizer, 'min', patience=2, verbose=True)\n",
        "    return scheduler"
      ]
    },
    {
      "cell_type": "code",
      "execution_count": 25,
      "metadata": {},
      "outputs": [],
      "source": [
        "# Hyperparameters\n",
        "character_embedding_dim = 4\n",
        "bert_dim = 768\n",
        "edge_dim = 16\n",
        "epochs = 8\n",
        "iters_per_dialog = 1"
      ]
    },
    {
      "cell_type": "code",
      "execution_count": 26,
      "metadata": {},
      "outputs": [
        {
          "name": "stdout",
          "output_type": "stream",
          "text": [
            "Running training dialogues: 1011\n"
          ]
        },
        {
          "name": "stderr",
          "output_type": "stream",
          "text": [
            "0it [00:00, ?it/s]"
          ]
        },
        {
          "data": {
            "image/png": "[encoded data removed]",
            "text/plain": [
              "<Figure size 640x480 with 1 Axes>"
            ]
          },
          "metadata": {},
          "output_type": "display_data"
        },
        {
          "name": "stderr",
          "output_type": "stream",
          "text": [
            "10it [00:00, 24.77it/s]"
          ]
        },
        {
          "name": "stdout",
          "output_type": "stream",
          "text": [
            "Epoch 0, loss 0.8128753304481506\n"
          ]
        },
        {
          "name": "stderr",
          "output_type": "stream",
          "text": [
            "993it [00:11, 89.10it/s]"
          ]
        },
        {
          "data": {
            "image/png": "[encoded data removed]",
            "text/plain": [
              "<Figure size 640x480 with 1 Axes>"
            ]
          },
          "metadata": {},
          "output_type": "display_data"
        },
        {
          "name": "stderr",
          "output_type": "stream",
          "text": [
            "1011it [00:11, 85.15it/s]"
          ]
        },
        {
          "name": "stdout",
          "output_type": "stream",
          "text": [
            "Epoch 0, loss 0.2873507770448923\n"
          ]
        },
        {
          "name": "stderr",
          "output_type": "stream",
          "text": [
            "\n"
          ]
        },
        {
          "name": "stdout",
          "output_type": "stream",
          "text": [
            "Epoch 0, validation loss 0.376381549796294\n"
          ]
        },
        {
          "name": "stderr",
          "output_type": "stream",
          "text": [
            "0it [00:00, ?it/s]"
          ]
        },
        {
          "data": {
            "image/png": "[encoded data removed]",
            "text/plain": [
              "<Figure size 640x480 with 1 Axes>"
            ]
          },
          "metadata": {},
          "output_type": "display_data"
        },
        {
          "name": "stderr",
          "output_type": "stream",
          "text": [
            "3it [00:00, 28.56it/s]"
          ]
        },
        {
          "name": "stdout",
          "output_type": "stream",
          "text": [
            "Epoch 1, loss 0.294098350815475\n"
          ]
        },
        {
          "name": "stderr",
          "output_type": "stream",
          "text": [
            "495it [00:05, 87.01it/s]\n"
          ]
        },
        {
          "ename": "KeyboardInterrupt",
          "evalue": "",
          "output_type": "error",
          "traceback": [
            "\u001b[0;31m---------------------------------------------------------------------------\u001b[0m",
            "\u001b[0;31mKeyboardInterrupt\u001b[0m                         Traceback (most recent call last)",
            "\u001b[0;32m/tmp/ipykernel_18088/881865877.py\u001b[0m in \u001b[0;36m<module>\u001b[0;34m\u001b[0m\n\u001b[1;32m      8\u001b[0m \u001b[0mscheduler\u001b[0m \u001b[0;34m=\u001b[0m \u001b[0mget_scheduler\u001b[0m\u001b[0;34m(\u001b[0m\u001b[0moptimizer\u001b[0m\u001b[0;34m)\u001b[0m\u001b[0;34m\u001b[0m\u001b[0;34m\u001b[0m\u001b[0m\n\u001b[1;32m      9\u001b[0m \u001b[0mcharacter_embeddings\u001b[0m \u001b[0;34m=\u001b[0m \u001b[0mtorch\u001b[0m\u001b[0;34m.\u001b[0m\u001b[0mrand\u001b[0m\u001b[0;34m(\u001b[0m\u001b[0;34m(\u001b[0m\u001b[0mlen\u001b[0m\u001b[0;34m(\u001b[0m\u001b[0mcharacter_enum\u001b[0m\u001b[0;34m)\u001b[0m\u001b[0;34m,\u001b[0m \u001b[0mcharacter_embedding_dim\u001b[0m\u001b[0;34m)\u001b[0m\u001b[0;34m,\u001b[0m \u001b[0mgenerator\u001b[0m\u001b[0;34m=\u001b[0m\u001b[0mg\u001b[0m\u001b[0;34m)\u001b[0m\u001b[0;34m.\u001b[0m\u001b[0mto\u001b[0m\u001b[0;34m(\u001b[0m\u001b[0mtorch_device\u001b[0m\u001b[0;34m)\u001b[0m\u001b[0;34m\u001b[0m\u001b[0;34m\u001b[0m\u001b[0m\n\u001b[0;32m---> 10\u001b[0;31m \u001b[0mlosses\u001b[0m\u001b[0;34m,\u001b[0m \u001b[0mall_losses\u001b[0m\u001b[0;34m,\u001b[0m \u001b[0mval_losses\u001b[0m \u001b[0;34m=\u001b[0m \u001b[0mtrain_loop\u001b[0m\u001b[0;34m(\u001b[0m\u001b[0mmodel\u001b[0m\u001b[0;34m,\u001b[0m \u001b[0moptimizer\u001b[0m\u001b[0;34m,\u001b[0m \u001b[0mcriterion\u001b[0m\u001b[0;34m,\u001b[0m \u001b[0mscheduler\u001b[0m\u001b[0;34m,\u001b[0m \u001b[0mcharacter_embeddings\u001b[0m\u001b[0;34m,\u001b[0m \u001b[0mtrain_data\u001b[0m\u001b[0;34m,\u001b[0m \u001b[0mvalid_data\u001b[0m\u001b[0;34m,\u001b[0m \u001b[0mhyperparameters\u001b[0m\u001b[0;34m)\u001b[0m\u001b[0;34m\u001b[0m\u001b[0;34m\u001b[0m\u001b[0m\n\u001b[0m",
            "\u001b[0;32m/tmp/ipykernel_18088/54534460.py\u001b[0m in \u001b[0;36mtrain_loop\u001b[0;34m(model, optimizer, criterion, scheduler, character_embeddings, train_data, valid_data, hyperparameters, print_every)\u001b[0m\n\u001b[1;32m     30\u001b[0m \u001b[0;34m\u001b[0m\u001b[0m\n\u001b[1;32m     31\u001b[0m         \u001b[0;31m# Compute and print loss\u001b[0m\u001b[0;34m\u001b[0m\u001b[0;34m\u001b[0m\u001b[0;34m\u001b[0m\u001b[0m\n\u001b[0;32m---> 32\u001b[0;31m         \u001b[0mloss\u001b[0m \u001b[0;34m=\u001b[0m \u001b[0mcriterion\u001b[0m\u001b[0;34m(\u001b[0m\u001b[0my_pred\u001b[0m\u001b[0;34m,\u001b[0m \u001b[0my\u001b[0m\u001b[0;34m)\u001b[0m\u001b[0;34m\u001b[0m\u001b[0;34m\u001b[0m\u001b[0m\n\u001b[0m\u001b[1;32m     33\u001b[0m         \u001b[0mall_losses\u001b[0m\u001b[0;34m.\u001b[0m\u001b[0mappend\u001b[0m\u001b[0;34m(\u001b[0m\u001b[0mloss\u001b[0m\u001b[0;34m.\u001b[0m\u001b[0mitem\u001b[0m\u001b[0;34m(\u001b[0m\u001b[0;34m)\u001b[0m\u001b[0;34m)\u001b[0m\u001b[0;34m\u001b[0m\u001b[0;34m\u001b[0m\u001b[0m\n\u001b[1;32m     34\u001b[0m \u001b[0;34m\u001b[0m\u001b[0m\n",
            "\u001b[0;32m~/ficembed/env/lib/python3.7/site-packages/torch/nn/modules/module.py\u001b[0m in \u001b[0;36m_call_impl\u001b[0;34m(self, *input, **kwargs)\u001b[0m\n\u001b[1;32m   1192\u001b[0m         if not (self._backward_hooks or self._forward_hooks or self._forward_pre_hooks or _global_backward_hooks\n\u001b[1;32m   1193\u001b[0m                 or _global_forward_hooks or _global_forward_pre_hooks):\n\u001b[0;32m-> 1194\u001b[0;31m             \u001b[0;32mreturn\u001b[0m \u001b[0mforward_call\u001b[0m\u001b[0;34m(\u001b[0m\u001b[0;34m*\u001b[0m\u001b[0minput\u001b[0m\u001b[0;34m,\u001b[0m \u001b[0;34m**\u001b[0m\u001b[0mkwargs\u001b[0m\u001b[0;34m)\u001b[0m\u001b[0;34m\u001b[0m\u001b[0;34m\u001b[0m\u001b[0m\n\u001b[0m\u001b[1;32m   1195\u001b[0m         \u001b[0;31m# Do not call functions when jit is used\u001b[0m\u001b[0;34m\u001b[0m\u001b[0;34m\u001b[0m\u001b[0;34m\u001b[0m\u001b[0m\n\u001b[1;32m   1196\u001b[0m         \u001b[0mfull_backward_hooks\u001b[0m\u001b[0;34m,\u001b[0m \u001b[0mnon_full_backward_hooks\u001b[0m \u001b[0;34m=\u001b[0m \u001b[0;34m[\u001b[0m\u001b[0;34m]\u001b[0m\u001b[0;34m,\u001b[0m \u001b[0;34m[\u001b[0m\u001b[0;34m]\u001b[0m\u001b[0;34m\u001b[0m\u001b[0;34m\u001b[0m\u001b[0m\n",
            "\u001b[0;32m/tmp/ipykernel_18088/1536429657.py\u001b[0m in \u001b[0;36mforward\u001b[0;34m(self, y_pred, y_true)\u001b[0m\n\u001b[1;32m      8\u001b[0m     \u001b[0;32mdef\u001b[0m \u001b[0mforward\u001b[0m\u001b[0;34m(\u001b[0m\u001b[0mself\u001b[0m\u001b[0;34m,\u001b[0m \u001b[0my_pred\u001b[0m\u001b[0;34m,\u001b[0m \u001b[0my_true\u001b[0m\u001b[0;34m)\u001b[0m\u001b[0;34m:\u001b[0m\u001b[0;34m\u001b[0m\u001b[0;34m\u001b[0m\u001b[0m\n\u001b[1;32m      9\u001b[0m         \u001b[0mmse_loss\u001b[0m \u001b[0;34m=\u001b[0m \u001b[0mnn\u001b[0m\u001b[0;34m.\u001b[0m\u001b[0mMSELoss\u001b[0m\u001b[0;34m(\u001b[0m\u001b[0;34m)\u001b[0m\u001b[0;34m(\u001b[0m\u001b[0my_pred\u001b[0m\u001b[0;34m,\u001b[0m \u001b[0my_true\u001b[0m\u001b[0;34m)\u001b[0m\u001b[0;34m\u001b[0m\u001b[0;34m\u001b[0m\u001b[0m\n\u001b[0;32m---> 10\u001b[0;31m         \u001b[0mhinge_loss\u001b[0m \u001b[0;34m=\u001b[0m \u001b[0mtorch\u001b[0m\u001b[0;34m.\u001b[0m\u001b[0mmax\u001b[0m\u001b[0;34m(\u001b[0m\u001b[0mtorch\u001b[0m\u001b[0;34m.\u001b[0m\u001b[0mzeros_like\u001b[0m\u001b[0;34m(\u001b[0m\u001b[0my_true\u001b[0m\u001b[0;34m)\u001b[0m\u001b[0;34m,\u001b[0m \u001b[0;36m1\u001b[0m \u001b[0;34m-\u001b[0m \u001b[0my_true\u001b[0m \u001b[0;34m*\u001b[0m \u001b[0my_pred\u001b[0m\u001b[0;34m)\u001b[0m\u001b[0;34m\u001b[0m\u001b[0;34m\u001b[0m\u001b[0m\n\u001b[0m\u001b[1;32m     11\u001b[0m         \u001b[0msigned_loss\u001b[0m \u001b[0;34m=\u001b[0m \u001b[0mself\u001b[0m\u001b[0;34m.\u001b[0m\u001b[0malpha\u001b[0m \u001b[0;34m*\u001b[0m \u001b[0mmse_loss\u001b[0m \u001b[0;34m+\u001b[0m \u001b[0mself\u001b[0m\u001b[0;34m.\u001b[0m\u001b[0mbeta\u001b[0m \u001b[0;34m*\u001b[0m \u001b[0mhinge_loss\u001b[0m\u001b[0;34m.\u001b[0m\u001b[0mmean\u001b[0m\u001b[0;34m(\u001b[0m\u001b[0;34m)\u001b[0m\u001b[0;34m\u001b[0m\u001b[0;34m\u001b[0m\u001b[0m\n\u001b[1;32m     12\u001b[0m         \u001b[0;32mreturn\u001b[0m \u001b[0msigned_loss\u001b[0m\u001b[0;34m\u001b[0m\u001b[0;34m\u001b[0m\u001b[0m\n",
            "\u001b[0;32m~/ficembed/env/lib/python3.7/site-packages/torch/_tensor.py\u001b[0m in \u001b[0;36mwrapped\u001b[0;34m(*args, **kwargs)\u001b[0m\n\u001b[1;32m     37\u001b[0m             \u001b[0;32mif\u001b[0m \u001b[0mhas_torch_function\u001b[0m\u001b[0;34m(\u001b[0m\u001b[0margs\u001b[0m\u001b[0;34m)\u001b[0m\u001b[0;34m:\u001b[0m\u001b[0;34m\u001b[0m\u001b[0;34m\u001b[0m\u001b[0m\n\u001b[1;32m     38\u001b[0m                 \u001b[0;32mreturn\u001b[0m \u001b[0mhandle_torch_function\u001b[0m\u001b[0;34m(\u001b[0m\u001b[0mwrapped\u001b[0m\u001b[0;34m,\u001b[0m \u001b[0margs\u001b[0m\u001b[0;34m,\u001b[0m \u001b[0;34m*\u001b[0m\u001b[0margs\u001b[0m\u001b[0;34m,\u001b[0m \u001b[0;34m**\u001b[0m\u001b[0mkwargs\u001b[0m\u001b[0;34m)\u001b[0m\u001b[0;34m\u001b[0m\u001b[0;34m\u001b[0m\u001b[0m\n\u001b[0;32m---> 39\u001b[0;31m             \u001b[0;32mreturn\u001b[0m \u001b[0mf\u001b[0m\u001b[0;34m(\u001b[0m\u001b[0;34m*\u001b[0m\u001b[0margs\u001b[0m\u001b[0;34m,\u001b[0m \u001b[0;34m**\u001b[0m\u001b[0mkwargs\u001b[0m\u001b[0;34m)\u001b[0m\u001b[0;34m\u001b[0m\u001b[0;34m\u001b[0m\u001b[0m\n\u001b[0m\u001b[1;32m     40\u001b[0m         \u001b[0;32mexcept\u001b[0m \u001b[0mTypeError\u001b[0m\u001b[0;34m:\u001b[0m\u001b[0;34m\u001b[0m\u001b[0;34m\u001b[0m\u001b[0m\n\u001b[1;32m     41\u001b[0m             \u001b[0;32mreturn\u001b[0m \u001b[0mNotImplemented\u001b[0m\u001b[0;34m\u001b[0m\u001b[0;34m\u001b[0m\u001b[0m\n",
            "\u001b[0;32m~/ficembed/env/lib/python3.7/site-packages/torch/_tensor.py\u001b[0m in \u001b[0;36m__rsub__\u001b[0;34m(self, other)\u001b[0m\n\u001b[1;32m    832\u001b[0m     \u001b[0;34m@\u001b[0m\u001b[0m_handle_torch_function_and_wrap_type_error_to_not_implemented\u001b[0m\u001b[0;34m\u001b[0m\u001b[0;34m\u001b[0m\u001b[0m\n\u001b[1;32m    833\u001b[0m     \u001b[0;32mdef\u001b[0m \u001b[0m__rsub__\u001b[0m\u001b[0;34m(\u001b[0m\u001b[0mself\u001b[0m\u001b[0;34m,\u001b[0m \u001b[0mother\u001b[0m\u001b[0;34m)\u001b[0m\u001b[0;34m:\u001b[0m\u001b[0;34m\u001b[0m\u001b[0;34m\u001b[0m\u001b[0m\n\u001b[0;32m--> 834\u001b[0;31m         \u001b[0;32mreturn\u001b[0m \u001b[0m_C\u001b[0m\u001b[0;34m.\u001b[0m\u001b[0m_VariableFunctions\u001b[0m\u001b[0;34m.\u001b[0m\u001b[0mrsub\u001b[0m\u001b[0;34m(\u001b[0m\u001b[0mself\u001b[0m\u001b[0;34m,\u001b[0m \u001b[0mother\u001b[0m\u001b[0;34m)\u001b[0m\u001b[0;34m\u001b[0m\u001b[0;34m\u001b[0m\u001b[0m\n\u001b[0m\u001b[1;32m    835\u001b[0m \u001b[0;34m\u001b[0m\u001b[0m\n\u001b[1;32m    836\u001b[0m     \u001b[0;34m@\u001b[0m\u001b[0m_handle_torch_function_and_wrap_type_error_to_not_implemented\u001b[0m\u001b[0;34m\u001b[0m\u001b[0;34m\u001b[0m\u001b[0m\n",
            "\u001b[0;32m~/ficembed/env/lib/python3.7/site-packages/torch/fx/traceback.py\u001b[0m in \u001b[0;36mformat_stack\u001b[0;34m()\u001b[0m\n\u001b[1;32m     55\u001b[0m     \u001b[0;32melse\u001b[0m\u001b[0;34m:\u001b[0m\u001b[0;34m\u001b[0m\u001b[0;34m\u001b[0m\u001b[0m\n\u001b[1;32m     56\u001b[0m         \u001b[0;31m# fallback to traceback.format_stack()\u001b[0m\u001b[0;34m\u001b[0m\u001b[0;34m\u001b[0m\u001b[0;34m\u001b[0m\u001b[0m\n\u001b[0;32m---> 57\u001b[0;31m         \u001b[0;32mreturn\u001b[0m \u001b[0mtraceback\u001b[0m\u001b[0;34m.\u001b[0m\u001b[0mformat_stack\u001b[0m\u001b[0;34m(\u001b[0m\u001b[0;34m)\u001b[0m\u001b[0;34m\u001b[0m\u001b[0;34m\u001b[0m\u001b[0m\n\u001b[0m\u001b[1;32m     58\u001b[0m \u001b[0;34m\u001b[0m\u001b[0m\n\u001b[1;32m     59\u001b[0m \u001b[0;34m\u001b[0m\u001b[0m\n",
            "\u001b[0;32m~/miniconda3/lib/python3.7/traceback.py\u001b[0m in \u001b[0;36mformat_stack\u001b[0;34m(f, limit)\u001b[0m\n\u001b[1;32m    195\u001b[0m     \u001b[0;32mif\u001b[0m \u001b[0mf\u001b[0m \u001b[0;32mis\u001b[0m \u001b[0;32mNone\u001b[0m\u001b[0;34m:\u001b[0m\u001b[0;34m\u001b[0m\u001b[0;34m\u001b[0m\u001b[0m\n\u001b[1;32m    196\u001b[0m         \u001b[0mf\u001b[0m \u001b[0;34m=\u001b[0m \u001b[0msys\u001b[0m\u001b[0;34m.\u001b[0m\u001b[0m_getframe\u001b[0m\u001b[0;34m(\u001b[0m\u001b[0;34m)\u001b[0m\u001b[0;34m.\u001b[0m\u001b[0mf_back\u001b[0m\u001b[0;34m\u001b[0m\u001b[0;34m\u001b[0m\u001b[0m\n\u001b[0;32m--> 197\u001b[0;31m     \u001b[0;32mreturn\u001b[0m \u001b[0mformat_list\u001b[0m\u001b[0;34m(\u001b[0m\u001b[0mextract_stack\u001b[0m\u001b[0;34m(\u001b[0m\u001b[0mf\u001b[0m\u001b[0;34m,\u001b[0m \u001b[0mlimit\u001b[0m\u001b[0;34m=\u001b[0m\u001b[0mlimit\u001b[0m\u001b[0;34m)\u001b[0m\u001b[0;34m)\u001b[0m\u001b[0;34m\u001b[0m\u001b[0;34m\u001b[0m\u001b[0m\n\u001b[0m\u001b[1;32m    198\u001b[0m \u001b[0;34m\u001b[0m\u001b[0m\n\u001b[1;32m    199\u001b[0m \u001b[0;34m\u001b[0m\u001b[0m\n",
            "\u001b[0;32m~/miniconda3/lib/python3.7/traceback.py\u001b[0m in \u001b[0;36mformat_list\u001b[0;34m(extracted_list)\u001b[0m\n\u001b[1;32m     37\u001b[0m     \u001b[0mwhose\u001b[0m \u001b[0msource\u001b[0m \u001b[0mtext\u001b[0m \u001b[0mline\u001b[0m \u001b[0;32mis\u001b[0m \u001b[0;32mnot\u001b[0m \u001b[0;32mNone\u001b[0m\u001b[0;34m.\u001b[0m\u001b[0;34m\u001b[0m\u001b[0;34m\u001b[0m\u001b[0m\n\u001b[1;32m     38\u001b[0m     \"\"\"\n\u001b[0;32m---> 39\u001b[0;31m     \u001b[0;32mreturn\u001b[0m \u001b[0mStackSummary\u001b[0m\u001b[0;34m.\u001b[0m\u001b[0mfrom_list\u001b[0m\u001b[0;34m(\u001b[0m\u001b[0mextracted_list\u001b[0m\u001b[0;34m)\u001b[0m\u001b[0;34m.\u001b[0m\u001b[0mformat\u001b[0m\u001b[0;34m(\u001b[0m\u001b[0;34m)\u001b[0m\u001b[0;34m\u001b[0m\u001b[0;34m\u001b[0m\u001b[0m\n\u001b[0m\u001b[1;32m     40\u001b[0m \u001b[0;34m\u001b[0m\u001b[0m\n\u001b[1;32m     41\u001b[0m \u001b[0;31m#\u001b[0m\u001b[0;34m\u001b[0m\u001b[0;34m\u001b[0m\u001b[0;34m\u001b[0m\u001b[0m\n",
            "\u001b[0;32m~/miniconda3/lib/python3.7/traceback.py\u001b[0m in \u001b[0;36mformat\u001b[0;34m(self)\u001b[0m\n\u001b[1;32m    421\u001b[0m                 frame.filename, frame.lineno, frame.name))\n\u001b[1;32m    422\u001b[0m             \u001b[0;32mif\u001b[0m \u001b[0mframe\u001b[0m\u001b[0;34m.\u001b[0m\u001b[0mline\u001b[0m\u001b[0;34m:\u001b[0m\u001b[0;34m\u001b[0m\u001b[0;34m\u001b[0m\u001b[0m\n\u001b[0;32m--> 423\u001b[0;31m                 \u001b[0mrow\u001b[0m\u001b[0;34m.\u001b[0m\u001b[0mappend\u001b[0m\u001b[0;34m(\u001b[0m\u001b[0;34m'    {}\\n'\u001b[0m\u001b[0;34m.\u001b[0m\u001b[0mformat\u001b[0m\u001b[0;34m(\u001b[0m\u001b[0mframe\u001b[0m\u001b[0;34m.\u001b[0m\u001b[0mline\u001b[0m\u001b[0;34m.\u001b[0m\u001b[0mstrip\u001b[0m\u001b[0;34m(\u001b[0m\u001b[0;34m)\u001b[0m\u001b[0;34m)\u001b[0m\u001b[0;34m)\u001b[0m\u001b[0;34m\u001b[0m\u001b[0;34m\u001b[0m\u001b[0m\n\u001b[0m\u001b[1;32m    424\u001b[0m             \u001b[0;32mif\u001b[0m \u001b[0mframe\u001b[0m\u001b[0;34m.\u001b[0m\u001b[0mlocals\u001b[0m\u001b[0;34m:\u001b[0m\u001b[0;34m\u001b[0m\u001b[0;34m\u001b[0m\u001b[0m\n\u001b[1;32m    425\u001b[0m                 \u001b[0;32mfor\u001b[0m \u001b[0mname\u001b[0m\u001b[0;34m,\u001b[0m \u001b[0mvalue\u001b[0m \u001b[0;32min\u001b[0m \u001b[0msorted\u001b[0m\u001b[0;34m(\u001b[0m\u001b[0mframe\u001b[0m\u001b[0;34m.\u001b[0m\u001b[0mlocals\u001b[0m\u001b[0;34m.\u001b[0m\u001b[0mitems\u001b[0m\u001b[0;34m(\u001b[0m\u001b[0;34m)\u001b[0m\u001b[0;34m)\u001b[0m\u001b[0;34m:\u001b[0m\u001b[0;34m\u001b[0m\u001b[0;34m\u001b[0m\u001b[0m\n",
            "\u001b[0;31mKeyboardInterrupt\u001b[0m: "
          ]
        }
      ],
      "source": [
        "# Run the training loop\n",
        "g = torch.Generator(device='cpu')\n",
        "g.manual_seed(12481)\n",
        "hyperparameters = {'epochs': epochs, 'iters_per_dialog': iters_per_dialog, 'smooth_labels': True}\n",
        "model = GCLWithHeadBert(character_embedding_dim, bert_dim, edge_dim, 1).to(torch_device)\n",
        "optimizer = torch.optim.Adam(model.parameters(), weight_decay=1e-2)\n",
        "criterion = SignedMSELoss()\n",
        "scheduler = get_scheduler(optimizer)\n",
        "character_embeddings = torch.rand((len(character_enum), character_embedding_dim), generator=g).to(torch_device)\n",
        "losses, all_losses, val_losses = train_loop(model, optimizer, criterion, scheduler, character_embeddings, train_data, valid_data, hyperparameters)"
      ]
    },
    {
      "cell_type": "code",
      "execution_count": 63,
      "metadata": {
        "colab": {
          "base_uri": "https://localhost:8080/",
          "height": 448
        },
        "id": "35VUqF_Ib1jb",
        "outputId": "7c839986-ca52-45b2-ea64-a859e3a3bcb4"
      },
      "outputs": [
        {
          "data": {
            "image/png": "[encoded data removed]",
            "text/plain": [
              "<Figure size 640x480 with 1 Axes>"
            ]
          },
          "metadata": {},
          "output_type": "display_data"
        },
        {
          "data": {
            "image/png": "[encoded data removed]",
            "text/plain": [
              "<Figure size 640x480 with 1 Axes>"
            ]
          },
          "metadata": {},
          "output_type": "display_data"
        }
      ],
      "source": [
        "def get_avg_losses(loss, size):\n",
        "    \"\"\"\n",
        "    For the list of losses, create a new list averaging together every size elements\n",
        "    \"\"\"\n",
        "    avg_loss = []\n",
        "    for i in range(0, len(loss), size):\n",
        "        avg_loss.append(sum(loss[i:i+size])/size)\n",
        "    return avg_loss[:-1]\n",
        "  \n",
        "avg_losses = get_avg_losses(all_losses, 1011)\n",
        "plt.plot(range(len(avg_losses)), avg_losses)\n",
        "plt.title(\"Training Loss\")\n",
        "plt.xlabel(\"Epochs\")\n",
        "plt.ylabel(\"Loss\")\n",
        "plt.show()\n",
        "\n",
        "avg_val_losses = get_avg_losses(val_losses, 1)\n",
        "plt.plot(range(len(avg_val_losses)), avg_val_losses)\n",
        "plt.title(\"Validation Loss\")\n",
        "plt.xlabel(\"Epochs\")\n",
        "plt.ylabel(\"Loss\")\n",
        "plt.show()"
      ]
    },
    {
      "attachments": {},
      "cell_type": "markdown",
      "metadata": {},
      "source": [
        "## Evaluation Loop"
      ]
    },
    {
      "cell_type": "code",
      "execution_count": null,
      "metadata": {
        "colab": {
          "base_uri": "https://localhost:8080/",
          "height": 865
        },
        "id": "ExiXLLuKs8Fl",
        "outputId": "56269ee3-94e0-4334-96dd-cc02da95187a"
      },
      "outputs": [],
      "source": [
        "def eval_loop(model, criterion, character_embeddings, test_data, verbose = True):\n",
        "  correct, incorrect = 0, 0\n",
        "  losses = []\n",
        "  for index, row in tqdm.tqdm(test_data.iterrows()):\n",
        "    dialog_gt = row['dialogue_sentiment']\n",
        "    y = torch.tensor(dialog_gt).view(-1, 1).to(torch_device)\n",
        "    \n",
        "    # Forward pass: Compute predicted y by passing x to the model\n",
        "    bert_value = get_bert_embedding(row)\n",
        "    bert_row = np.array([float(val) for val in bert_value.strip('][').split(', ')])\n",
        "    bert_embed = torch.from_numpy(bert_row).float().to(torch_device)\n",
        "    speaker = torch.tensor([get_speaker(row)]).to(torch_device)\n",
        "    listener = torch.tensor([get_listener(row)]).to(torch_device)\n",
        "\n",
        "    with torch.no_grad():\n",
        "      character_embeddings, y_pred = model(character_embeddings, bert_embed, speaker, \n",
        "                                            listener)\n",
        "      \n",
        "    # if y_pred and y are the same sign, increment correct, else increment incorrect\n",
        "    if y_pred.item() * y.item() > 0:\n",
        "      correct += 1\n",
        "    else:\n",
        "      incorrect += 1\n",
        "\n",
        "    # Compute and print loss\n",
        "    loss = criterion(y_pred, y)\n",
        "    losses.append(loss.item())\n",
        "\n",
        "  if verbose:\n",
        "    # printing correctness/incorrect measured by direction\n",
        "    print('accuracy', correct/(correct + incorrect))\n",
        "  correctness = correct / (correct + incorrect)\n",
        "\n",
        "  # printing accuracy based on loss\n",
        "  loss_np = np.array(losses)\n",
        "  accuracies = []\n",
        "  for boundary in [0.1, 0.2, 0.3, 0.4, 0.5, 0.6, 0.7, 0.8, 0.9, 1]:\n",
        "    boolean = loss_np[loss_np <= boundary]\n",
        "    if verbose:\n",
        "      print(f\"With error margin {boundary}, accuracy = {len(boolean) / len(loss_np)}\")\n",
        "    accuracies.append(len(boolean) / len(loss_np))\n",
        "  if verbose:\n",
        "    plt.plot([0.1, 0.2, 0.3, 0.4, 0.5, 0.6, 0.7, 0.8, 0.9, 1], accuracies, label='MSE Loss')\n",
        "    plt.xlabel('Margin')\n",
        "    plt.ylabel('Percent within Margin')\n",
        "    plt.title('Loss Percent within Loss Margin')\n",
        "\n",
        "  return losses, correctness, accuracies"
      ]
    },
    {
      "cell_type": "code",
      "execution_count": null,
      "metadata": {},
      "outputs": [],
      "source": [
        "eval_loop(model, criterion, character_embeddings, test_data)"
      ]
    },
    {
      "attachments": {},
      "cell_type": "markdown",
      "metadata": {},
      "source": [
        "## Plotting Embeddings"
      ]
    },
    {
      "cell_type": "code",
      "execution_count": null,
      "metadata": {
        "id": "rD_2gjxpDYaM"
      },
      "outputs": [],
      "source": [
        "# create a 2D plot of the vectors\n",
        "def plot_2d(vectors, labels):\n",
        "    tsne = TSNE(n_components=2, perplexity=1, random_state=0)\n",
        "    np.set_printoptions(suppress=True)\n",
        "    T = tsne.fit_transform(vectors)\n",
        "    labels = labels\n",
        "\n",
        "    df = px.data.iris()\n",
        "    fig = px.scatter(x=T[:,0], y=T[:,1], color=labels)\n",
        "    fig.show()"
      ]
    },
    {
      "cell_type": "code",
      "execution_count": null,
      "metadata": {
        "colab": {
          "base_uri": "https://localhost:8080/",
          "height": 542
        },
        "id": "4b9Ccw5TkviQ",
        "outputId": "3e56ec51-fbc5-442d-b6a5-58028f57db93"
      },
      "outputs": [],
      "source": [
        "plot_2d(character_embeddings.cpu().detach().numpy(), character_enum['character'])"
      ]
    },
    {
      "attachments": {},
      "cell_type": "markdown",
      "metadata": {},
      "source": [
        "## HyperParameter Search"
      ]
    },
    {
      "cell_type": "code",
      "execution_count": null,
      "metadata": {},
      "outputs": [],
      "source": [
        "# Set up hyperparameter for grid search\n",
        "character_embedding_dims = [4, 8, 16, 32, 64, 128]\n",
        "bert_dims = [768]\n",
        "edge_dims = [2, 4, 8, 16, 32, 64, 128]\n",
        "epochs = [1]\n",
        "iters_per_dialog = [1]"
      ]
    },
    {
      "cell_type": "code",
      "execution_count": null,
      "metadata": {},
      "outputs": [],
      "source": [
        "# save data here\n",
        "data = {}"
      ]
    },
    {
      "cell_type": "code",
      "execution_count": null,
      "metadata": {},
      "outputs": [],
      "source": [
        "# Save data to file as checkpoint\n",
        "with open('grid_search_data.pkl', 'wb') as f:\n",
        "    pickle.dump(data, f)"
      ]
    },
    {
      "cell_type": "code",
      "execution_count": null,
      "metadata": {},
      "outputs": [],
      "source": [
        "# Perform grid search\n",
        "g = torch.Generator()\n",
        "g.manual_seed(42)\n",
        "for character_embedding_dim in character_embedding_dims:\n",
        "    for bert_dim in bert_dims:\n",
        "        for edge_dim in edge_dims:\n",
        "            for epoch_count in epochs:\n",
        "                for iters_count in iters_per_dialog:\n",
        "                    print('Testing: ', character_embedding_dim, bert_dim, edge_dim, epoch_count, iters_count)\n",
        "                    # Run the training loop\n",
        "                    hyperparameters = {'epochs': epoch_count, 'iters_per_dialog': iters_count}\n",
        "                    model = GCLWithHeadBert(character_embedding_dim, bert_dim, edge_dim, 1).to(torch_device)\n",
        "                    optimizer = torch.optim.Adam(model.parameters())\n",
        "                    criterion = SignedMSELoss()\n",
        "                    scheduler = get_scheduler(optimizer)\n",
        "                    character_embeddings = torch.rand((len(character_enum), character_embedding_dim), generator=g).to(torch_device)\n",
        "                    losses, all_losses, val_losses = train_loop(model, optimizer, criterion, scheduler, character_embeddings, train_data, valid_data, hyperparameters, print_every=10000)\n",
        "                    losses_eval, correctness, accuracies = eval_loop(model, criterion, character_embeddings, test_data, verbose=False)\n",
        "                    # save data here\n",
        "                    data[(character_embedding_dim, bert_dim, edge_dim, epoch_count, iters_count)] = (losses, all_losses, val_losses, losses_eval, correctness, accuracies)\n",
        "    \n",
        "    # Save data to file as checkpoint\n",
        "    with open('grid_search_data.pkl', 'wb') as f:\n",
        "        pickle.dump(data, f)\n"
      ]
    },
    {
      "cell_type": "code",
      "execution_count": null,
      "metadata": {},
      "outputs": [],
      "source": [
        "# Plot the following: Average loss value against values of edge_dim\n",
        "# (losses, all_losses, val_losses, losses_eval, correctness, accuracies)\n",
        "losses = []\n",
        "losses2 = []\n",
        "accuracies = []\n",
        "accuracies2 = []\n",
        "for edge_dim in edge_dims:\n",
        "    avg_losses = get_avg_losses(data[(16, 768, edge_dim, 1, 1)][1], 1011)\n",
        "    accuracies.append(data[(16, 768, edge_dim, 1, 1)][5][1])\n",
        "    losses.append(avg_losses[-1])\n",
        "\n",
        "for char_dim in character_embedding_dims:\n",
        "    avg_losses = get_avg_losses(data[(char_dim, 768, 16, 1, 1)][1], 1011)\n",
        "    accuracies2.append(data[(char_dim, 768, 16, 1, 1)][5][1])\n",
        "    losses2.append(avg_losses[-1])\n",
        "\n",
        "# Create four subplots \n",
        "fig, ((ax1, ax2), (ax3, ax4)) = plt.subplots(2, 2, figsize=(5, 5))\n",
        "# Add space between plots\n",
        "fig.tight_layout(pad=5.0)\n",
        "# Decrease font size\n",
        "plt.rcParams.update({'font.size': 8})\n",
        "ax1.plot(edge_dims, accuracies)\n",
        "ax1.set_title('Accuracy vs. Edge Dimension')\n",
        "ax1.set_xlabel('Edge Dimension')\n",
        "ax1.set_ylabel('Accuracy')\n",
        "ax2.plot(edge_dims, losses)\n",
        "ax2.set_title('Loss vs. Edge Dimension')\n",
        "ax2.set_xlabel('Edge Dimension')\n",
        "ax2.set_ylabel('Loss')\n",
        "ax3.plot(character_embedding_dims, accuracies2)\n",
        "ax3.set_title('Accuracy vs. Char Embed Dim')\n",
        "ax3.set_xlabel('Character Embedding Dimension')\n",
        "ax3.set_ylabel('Accuracy')\n",
        "ax4.plot(character_embedding_dims, losses2)\n",
        "ax4.set_title('Loss vs. Char Embed Dim')\n",
        "ax4.set_xlabel('Character Embedding Dimension')\n",
        "ax4.set_ylabel('Loss')\n",
        "plt.show()\n"
      ]
    },
    {
      "attachments": {},
      "cell_type": "markdown",
      "metadata": {},
      "source": [
        "## Manual Testing"
      ]
    },
    {
      "cell_type": "code",
      "execution_count": null,
      "metadata": {
        "colab": {
          "base_uri": "https://localhost:8080/"
        },
        "id": "gxXt5JOUliPt",
        "outputId": "37810e48-0680-485a-e8b2-0c5affcf166c"
      },
      "outputs": [],
      "source": [
        "character_translation = {index: name for index, name in enumerate(character_enum['character'])}\n",
        "juliet_side = [\"JULIET\", \"NURSE\", \"LADY CAPULET\", \"CAPULET\"]\n",
        "romeo_side = [\"ROMEO\", \"FRIAR LAWRENCE\", \"FRIAR JOHN\", \"BALTHASAR\", \"MERCUTIO\", \"BENVOLIO\", \"MONTAGUE\"]\n",
        "evil_side = [\"TYBALT\", \"PARIS\", \"PRINCE\", \"APOTHECARY\"]\n",
        "\n",
        "name_to_index = {v:k for k,v in character_translation.items()}\n",
        "juliet_indices = [name_to_index[name] for name in juliet_side]\n",
        "romeo_indices = [name_to_index[name] for name in romeo_side]\n",
        "evil_indices = [name_to_index[name] for name in evil_side]\n",
        "\n",
        "juliet_friends = [character_embeddings[index].detach().cpu().numpy() for index in juliet_indices]\n",
        "romeo_friends = [character_embeddings[index].detach().cpu().numpy() for index in romeo_indices]\n",
        "evil_friends = [character_embeddings[index].detach().cpu().numpy() for index in evil_indices]\n",
        "\n",
        "juliet = juliet_friends[0]\n",
        "romeo = romeo_friends[0]\n",
        "\n",
        "juliet_distances = [np.linalg.norm(juliet - friend) for friend in juliet_friends]\n",
        "romeo_distances = [np.linalg.norm(romeo - friend) for friend in romeo_friends]\n",
        "\n",
        "juliet_romeo_distances = [np.linalg.norm(juliet - other) for other in romeo_friends]\n",
        "juliet_evil_distances = [np.linalg.norm(juliet - other) for other in evil_friends]\n",
        "\n",
        "romeo_juliet_distances = [np.linalg.norm(romeo - other) for other in juliet_friends]\n",
        "romeo_evil_distances = [np.linalg.norm(romeo - other) for other in evil_friends]\n",
        "\n",
        "print(np.mean(juliet_distances), np.mean(juliet_romeo_distances), np.mean(juliet_evil_distances))\n",
        "print(np.mean(romeo_distances), np.mean(romeo_juliet_distances), np.mean(romeo_evil_distances))"
      ]
    }
  ],
  "metadata": {
    "accelerator": "GPU",
    "colab": {
      "provenance": []
    },
    "gpuClass": "standard",
    "kernelspec": {
      "display_name": "Python 3",
      "name": "python3"
    },
    "language_info": {
      "codemirror_mode": {
        "name": "ipython",
        "version": 3
      },
      "file_extension": ".py",
      "mimetype": "text/x-python",
      "name": "python",
      "nbconvert_exporter": "python",
      "pygments_lexer": "ipython3",
      "version": "3.7.10"
    }
  },
  "nbformat": 4,
  "nbformat_minor": 0
}
