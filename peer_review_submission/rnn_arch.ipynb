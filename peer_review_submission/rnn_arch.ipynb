{
  "cells": [
    {
      "attachments": {},
      "cell_type": "markdown",
      "metadata": {},
      "source": [
        "# FicEmbed Training Run on Romeo and Juliet"
      ]
    },
    {
      "attachments": {},
      "cell_type": "markdown",
      "metadata": {},
      "source": [
        "## Installs and Imports"
      ]
    },
    {
      "cell_type": "code",
      "execution_count": null,
      "metadata": {
        "colab": {
          "base_uri": "https://localhost:8080/"
        },
        "id": "_38G5xgXa7JX",
        "outputId": "55888f6f-5ac6-4afe-ffcb-91e5012d05b3"
      },
      "outputs": [],
      "source": [
        "!pip install tqdm boto3 requests regex sentencepiece sacremoses\n",
        "!pip install transformers\n",
        "!pip install torch"
      ]
    },
    {
      "cell_type": "code",
      "execution_count": null,
      "metadata": {
        "id": "9Hx_i3KkIyZQ"
      },
      "outputs": [],
      "source": [
        "import torch\n",
        "import torch.nn as nn\n",
        "import numpy as np\n",
        "import pandas as pd\n",
        "import matplotlib.pyplot as plt\n",
        "import tqdm\n",
        "from sklearn.manifold import TSNE\n",
        "import plotly.express as px\n",
        "import pickle"
      ]
    },
    {
      "cell_type": "code",
      "execution_count": null,
      "metadata": {},
      "outputs": [],
      "source": [
        "torch_device = 'cuda' if torch.cuda.is_available() else 'cpu'\n",
        "torch_device"
      ]
    },
    {
      "attachments": {},
      "cell_type": "markdown",
      "metadata": {},
      "source": [
        "## Network Architecture"
      ]
    },
    {
      "cell_type": "code",
      "execution_count": null,
      "metadata": {
        "id": "AuzRl0mYl9i5"
      },
      "outputs": [],
      "source": [
        "class GraphConvolution(torch.nn.Module):\n",
        "    def __init__(self, character_embedding_dim, edge_dim):\n",
        "        super(GraphConvolution, self).__init__()\n",
        "\n",
        "        self.ce_dim = character_embedding_dim\n",
        "        self.e_dim = edge_dim\n",
        "\n",
        "        self.activation = nn.Sigmoid()\n",
        "        \n",
        "        self.message_to_listener = nn.Sequential(nn.Linear(character_embedding_dim + edge_dim, character_embedding_dim),\n",
        "                                                self.activation)\n",
        "        \n",
        "        self.message_to_speaker = nn.Sequential(nn.Linear(character_embedding_dim + edge_dim, character_embedding_dim),\n",
        "                                                self.activation)\n",
        "        \n",
        "        self.listener_update = nn.Sequential(nn.Linear(character_embedding_dim, character_embedding_dim), self.activation)\n",
        "        self.speaker_update = nn.Sequential(nn.Linear(character_embedding_dim, character_embedding_dim), self.activation)\n",
        "\n",
        "    def forward(self, character_embeddings, dialogue_embeddings, speakers, listeners):\n",
        "        '''\n",
        "          -> (speakers intersect listeners) should be an empty set!\n",
        "        '''\n",
        "\n",
        "        character_embeddings = character_embeddings.detach()\n",
        "\n",
        "        speaker_features = character_embeddings[speakers, :]\n",
        "        listener_features = character_embeddings[listeners, :]\n",
        "\n",
        "        speaker_listener_dialogue =  torch.cat((speaker_features - listener_features, dialogue_embeddings), dim=-1)\n",
        "\n",
        "        # Residual connection included to avoid dying gradients\n",
        "        updated_speakers = self.speaker_update(speaker_features + self.message_to_listener(speaker_listener_dialogue)) + speaker_features \n",
        "        updated_listeners = self.listener_update(listener_features + self.message_to_speaker(speaker_listener_dialogue)) + listener_features \n",
        "\n",
        "        out = character_embeddings.clone()\n",
        "        out[speakers, :] = updated_speakers\n",
        "        out[listeners, :] = updated_listeners\n",
        "\n",
        "        return out\n",
        "\n",
        "class GCLWithHeadBert(torch.nn.Module):\n",
        "  def __init__(self, character_embedding_dim, bert_dim, edge_dim, out_dim):\n",
        "    super(GCLWithHeadBert, self).__init__()\n",
        "\n",
        "    self.bert_dim = bert_dim\n",
        "    self.head = nn.Linear(2 * character_embedding_dim, out_dim)\n",
        "    self.edge_translator = nn.Linear(bert_dim, edge_dim)\n",
        "    self.gcn_layer = GraphConvolution(character_embedding_dim, edge_dim)\n",
        "    self.activation = nn.Sigmoid()\n",
        "\n",
        "  def forward(self, character_embeddings, embedding, speaker, listener):\n",
        "    edge_feature = self.activation(self.edge_translator(embedding.detach())[None, :])\n",
        "    updated_embeddings = self.gcn_layer(character_embeddings, edge_feature, speaker, listener)\n",
        "    linear_layer_out = self.activation(self.head(torch.cat((updated_embeddings[speaker, :], updated_embeddings[listener, :]), axis=1)))\n",
        "    return updated_embeddings, linear_layer_out\n"
      ]
    },
    {
      "attachments": {},
      "cell_type": "markdown",
      "metadata": {},
      "source": [
        "## Data Import and Wrangling"
      ]
    },
    {
      "cell_type": "code",
      "execution_count": 70,
      "metadata": {
        "colab": {
          "base_uri": "https://localhost:8080/"
        },
        "id": "LW_flFhRO_vI",
        "outputId": "2e1e0ad3-ec89-48ff-d54d-ab3519f5276f"
      },
      "outputs": [
        {
          "data": {
            "text/html": [
              "<div>\n",
              "<style scoped>\n",
              "    .dataframe tbody tr th:only-of-type {\n",
              "        vertical-align: middle;\n",
              "    }\n",
              "\n",
              "    .dataframe tbody tr th {\n",
              "        vertical-align: top;\n",
              "    }\n",
              "\n",
              "    .dataframe thead th {\n",
              "        text-align: right;\n",
              "    }\n",
              "</style>\n",
              "<table border=\"1\" class=\"dataframe\">\n",
              "  <thead>\n",
              "    <tr style=\"text-align: right;\">\n",
              "      <th></th>\n",
              "      <th>speaker</th>\n",
              "      <th>listener</th>\n",
              "      <th>speaker_index</th>\n",
              "      <th>listener_index</th>\n",
              "      <th>dialogue</th>\n",
              "      <th>dialogue_sentiment</th>\n",
              "      <th>avg_sentiment</th>\n",
              "      <th>bert</th>\n",
              "    </tr>\n",
              "  </thead>\n",
              "  <tbody>\n",
              "    <tr>\n",
              "      <th>0</th>\n",
              "      <td>CHORUS</td>\n",
              "      <td>SAMPSON</td>\n",
              "      <td>0</td>\n",
              "      <td>1</td>\n",
              "      <td>Two households, both alike in dignity, In fair...</td>\n",
              "      <td>-0.5719</td>\n",
              "      <td>-0.5719</td>\n",
              "      <td>[-0.062187887728214264, 0.04341184347867966, 0...</td>\n",
              "    </tr>\n",
              "    <tr>\n",
              "      <th>1</th>\n",
              "      <td>SAMPSON</td>\n",
              "      <td>CHORUS</td>\n",
              "      <td>1</td>\n",
              "      <td>0</td>\n",
              "      <td>Gregory, on my word, we’ll not carry coals.</td>\n",
              "      <td>0.0</td>\n",
              "      <td>0.0</td>\n",
              "      <td>[-0.14115169644355774, 0.5629909634590149, -0....</td>\n",
              "    </tr>\n",
              "    <tr>\n",
              "      <th>2</th>\n",
              "      <td>SAMPSON</td>\n",
              "      <td>GREGORY</td>\n",
              "      <td>1</td>\n",
              "      <td>2</td>\n",
              "      <td>Gregory, on my word, we’ll not carry coals.</td>\n",
              "      <td>0.0</td>\n",
              "      <td>-0.062038</td>\n",
              "      <td>[-0.14115169644355774, 0.5629909634590149, -0....</td>\n",
              "    </tr>\n",
              "    <tr>\n",
              "      <th>3</th>\n",
              "      <td>GREGORY</td>\n",
              "      <td>SAMPSON</td>\n",
              "      <td>2</td>\n",
              "      <td>1</td>\n",
              "      <td>No, for then we should be colliers.</td>\n",
              "      <td>0.0</td>\n",
              "      <td>-0.087993</td>\n",
              "      <td>[-0.1291680932044983, 0.28564387559890747, -0....</td>\n",
              "    </tr>\n",
              "    <tr>\n",
              "      <th>4</th>\n",
              "      <td>GREGORY</td>\n",
              "      <td>SAMPSON</td>\n",
              "      <td>2</td>\n",
              "      <td>1</td>\n",
              "      <td>No, for then we should be colliers.</td>\n",
              "      <td>0.0</td>\n",
              "      <td>-0.087993</td>\n",
              "      <td>[-0.1291680932044983, 0.28564387559890747, -0....</td>\n",
              "    </tr>\n",
              "    <tr>\n",
              "      <th>...</th>\n",
              "      <td>...</td>\n",
              "      <td>...</td>\n",
              "      <td>...</td>\n",
              "      <td>...</td>\n",
              "      <td>...</td>\n",
              "      <td>...</td>\n",
              "      <td>...</td>\n",
              "      <td>...</td>\n",
              "    </tr>\n",
              "    <tr>\n",
              "      <th>1681</th>\n",
              "      <td>MONTAGUE</td>\n",
              "      <td>CAPULET</td>\n",
              "      <td>9</td>\n",
              "      <td>7</td>\n",
              "      <td>But I can give thee more, For I will raise her...</td>\n",
              "      <td>0.6956</td>\n",
              "      <td>0.2643</td>\n",
              "      <td>[-0.30834853649139404, -0.08796899765729904, -...</td>\n",
              "    </tr>\n",
              "    <tr>\n",
              "      <th>1682</th>\n",
              "      <td>MONTAGUE</td>\n",
              "      <td>CAPULET</td>\n",
              "      <td>9</td>\n",
              "      <td>7</td>\n",
              "      <td>But I can give thee more, For I will raise her...</td>\n",
              "      <td>0.6956</td>\n",
              "      <td>0.2643</td>\n",
              "      <td>[-0.30834853649139404, -0.08796899765729904, -...</td>\n",
              "    </tr>\n",
              "    <tr>\n",
              "      <th>1683</th>\n",
              "      <td>CAPULET</td>\n",
              "      <td>MONTAGUE</td>\n",
              "      <td>7</td>\n",
              "      <td>9</td>\n",
              "      <td>As rich shall Romeo’s by his lady’s lie, Poor ...</td>\n",
              "      <td>0.128</td>\n",
              "      <td>-0.127267</td>\n",
              "      <td>[-0.21812646090984344, 0.143050417304039, -0.1...</td>\n",
              "    </tr>\n",
              "    <tr>\n",
              "      <th>1684</th>\n",
              "      <td>CAPULET</td>\n",
              "      <td>PRINCE</td>\n",
              "      <td>7</td>\n",
              "      <td>11</td>\n",
              "      <td>As rich shall Romeo’s by his lady’s lie, Poor ...</td>\n",
              "      <td>0.128</td>\n",
              "      <td>0.062967</td>\n",
              "      <td>[-0.21812646090984344, 0.143050417304039, -0.1...</td>\n",
              "    </tr>\n",
              "    <tr>\n",
              "      <th>1685</th>\n",
              "      <td>PRINCE</td>\n",
              "      <td>CAPULET</td>\n",
              "      <td>11</td>\n",
              "      <td>7</td>\n",
              "      <td>A glooming peace this morning with it brings; ...</td>\n",
              "      <td>-0.8977</td>\n",
              "      <td>-0.597733</td>\n",
              "      <td>[-0.19742143154144287, -0.18241626024246216, 0...</td>\n",
              "    </tr>\n",
              "  </tbody>\n",
              "</table>\n",
              "<p>1686 rows × 8 columns</p>\n",
              "</div>"
            ],
            "text/plain": [
              "       speaker  listener speaker_index listener_index  \\\n",
              "0       CHORUS   SAMPSON             0              1   \n",
              "1      SAMPSON    CHORUS             1              0   \n",
              "2      SAMPSON   GREGORY             1              2   \n",
              "3      GREGORY   SAMPSON             2              1   \n",
              "4      GREGORY   SAMPSON             2              1   \n",
              "...        ...       ...           ...            ...   \n",
              "1681  MONTAGUE   CAPULET             9              7   \n",
              "1682  MONTAGUE   CAPULET             9              7   \n",
              "1683   CAPULET  MONTAGUE             7              9   \n",
              "1684   CAPULET    PRINCE             7             11   \n",
              "1685    PRINCE   CAPULET            11              7   \n",
              "\n",
              "                                               dialogue dialogue_sentiment  \\\n",
              "0     Two households, both alike in dignity, In fair...            -0.5719   \n",
              "1           Gregory, on my word, we’ll not carry coals.                0.0   \n",
              "2           Gregory, on my word, we’ll not carry coals.                0.0   \n",
              "3                   No, for then we should be colliers.                0.0   \n",
              "4                   No, for then we should be colliers.                0.0   \n",
              "...                                                 ...                ...   \n",
              "1681  But I can give thee more, For I will raise her...             0.6956   \n",
              "1682  But I can give thee more, For I will raise her...             0.6956   \n",
              "1683  As rich shall Romeo’s by his lady’s lie, Poor ...              0.128   \n",
              "1684  As rich shall Romeo’s by his lady’s lie, Poor ...              0.128   \n",
              "1685  A glooming peace this morning with it brings; ...            -0.8977   \n",
              "\n",
              "     avg_sentiment                                               bert  \n",
              "0          -0.5719  [-0.062187887728214264, 0.04341184347867966, 0...  \n",
              "1              0.0  [-0.14115169644355774, 0.5629909634590149, -0....  \n",
              "2        -0.062038  [-0.14115169644355774, 0.5629909634590149, -0....  \n",
              "3        -0.087993  [-0.1291680932044983, 0.28564387559890747, -0....  \n",
              "4        -0.087993  [-0.1291680932044983, 0.28564387559890747, -0....  \n",
              "...            ...                                                ...  \n",
              "1681        0.2643  [-0.30834853649139404, -0.08796899765729904, -...  \n",
              "1682        0.2643  [-0.30834853649139404, -0.08796899765729904, -...  \n",
              "1683     -0.127267  [-0.21812646090984344, 0.143050417304039, -0.1...  \n",
              "1684      0.062967  [-0.21812646090984344, 0.143050417304039, -0.1...  \n",
              "1685     -0.597733  [-0.19742143154144287, -0.18241626024246216, 0...  \n",
              "\n",
              "[1686 rows x 8 columns]"
            ]
          },
          "execution_count": 70,
          "metadata": {},
          "output_type": "execute_result"
        }
      ],
      "source": [
        "df_dialogs = pd.read_csv('rj_vadr_bert.csv').drop(columns=[\"Unnamed: 0\"])\n",
        "character_enum = pd.DataFrame(df_dialogs[\"speaker\"].unique()).reset_index().rename(columns={0:'character'})\n",
        "df_dialogs_with_speaker_enumeration = pd.merge(left=df_dialogs,\n",
        "                                       right=character_enum,\n",
        "                                       left_on=\"speaker\",\n",
        "                                       right_on=\"character\",\n",
        "                                       how=\"left\").rename(columns={'index': 'speaker_index'}).drop(columns=['character'])\n",
        "df_dialogs_with_listener_enumeration = pd.merge(left=df_dialogs_with_speaker_enumeration,\n",
        "                                       right=character_enum,\n",
        "                                       left_on=\"listener\",\n",
        "                                       right_on=\"character\",\n",
        "                                       how=\"left\").rename(columns={'index': 'listener_index'}).drop(columns=['character'])\n",
        "data_d = df_dialogs_with_listener_enumeration[['speaker', 'listener', 'speaker_index', 'listener_index', 'dialogue', 'dialogue_sentiment', 'avg_sentiment', 'bert']]\n",
        "data = data_d.T.drop_duplicates().T\n",
        "data"
      ]
    },
    {
      "cell_type": "code",
      "execution_count": 71,
      "metadata": {
        "id": "TKCugQFms19r"
      },
      "outputs": [
        {
          "name": "stdout",
          "output_type": "stream",
          "text": [
            "Sizes: train 1011, valid 337, test 338\n"
          ]
        }
      ],
      "source": [
        "train_data = data.iloc[:int(0.6*len(data))]\n",
        "valid_data = data.iloc[int(0.6*len(data)):int(0.8*len(data))]\n",
        "test_data = data.iloc[int(0.8*len(data)):]\n",
        "print(f\"Sizes: train {len(train_data)}, valid {len(valid_data)}, test {len(test_data)}\")"
      ]
    },
    {
      "cell_type": "code",
      "execution_count": 72,
      "metadata": {},
      "outputs": [
        {
          "name": "stderr",
          "output_type": "stream",
          "text": [
            "/home/amks/ficembed/env/lib/python3.7/site-packages/ipykernel_launcher.py:10: SettingWithCopyWarning: \n",
            "A value is trying to be set on a copy of a slice from a DataFrame.\n",
            "Try using .loc[row_indexer,col_indexer] = value instead\n",
            "\n",
            "See the caveats in the documentation: https://pandas.pydata.org/pandas-docs/stable/user_guide/indexing.html#returning-a-view-versus-a-copy\n",
            "  # Remove the CWD from sys.path while we load stuff.\n"
          ]
        }
      ],
      "source": [
        "# Ground truth labels are given by datapoint['dialogue_sentiment']\n",
        "# Smooth out the labels, moving them away from extreme values like 0, 1 and -1. You may use datapoint['avg_sentiment'] to do this.\n",
        "\n",
        "def smooth_labels(labels, smooth_factor=0.1):\n",
        "    labels *= (1 - smooth_factor)\n",
        "    labels += smooth_factor / labels.shape[0]\n",
        "    return labels\n",
        "\n",
        "for dataset in [train_data, valid_data, test_data]:\n",
        "    dataset['smoothed_dialogue_sentiment'] = smooth_labels(dataset['dialogue_sentiment'].values)"
      ]
    },
    {
      "cell_type": "code",
      "execution_count": 73,
      "metadata": {},
      "outputs": [
        {
          "data": {
            "text/html": [
              "<div>\n",
              "<style scoped>\n",
              "    .dataframe tbody tr th:only-of-type {\n",
              "        vertical-align: middle;\n",
              "    }\n",
              "\n",
              "    .dataframe tbody tr th {\n",
              "        vertical-align: top;\n",
              "    }\n",
              "\n",
              "    .dataframe thead th {\n",
              "        text-align: right;\n",
              "    }\n",
              "</style>\n",
              "<table border=\"1\" class=\"dataframe\">\n",
              "  <thead>\n",
              "    <tr style=\"text-align: right;\">\n",
              "      <th></th>\n",
              "      <th>speaker</th>\n",
              "      <th>listener</th>\n",
              "      <th>speaker_index</th>\n",
              "      <th>listener_index</th>\n",
              "      <th>dialogue</th>\n",
              "      <th>dialogue_sentiment</th>\n",
              "      <th>avg_sentiment</th>\n",
              "      <th>bert</th>\n",
              "      <th>smoothed_dialogue_sentiment</th>\n",
              "    </tr>\n",
              "  </thead>\n",
              "  <tbody>\n",
              "    <tr>\n",
              "      <th>0</th>\n",
              "      <td>CHORUS</td>\n",
              "      <td>SAMPSON</td>\n",
              "      <td>0</td>\n",
              "      <td>1</td>\n",
              "      <td>Two households, both alike in dignity, In fair...</td>\n",
              "      <td>-0.514611</td>\n",
              "      <td>-0.5719</td>\n",
              "      <td>[-0.062187887728214264, 0.04341184347867966, 0...</td>\n",
              "      <td>-0.514611</td>\n",
              "    </tr>\n",
              "    <tr>\n",
              "      <th>1</th>\n",
              "      <td>SAMPSON</td>\n",
              "      <td>CHORUS</td>\n",
              "      <td>1</td>\n",
              "      <td>0</td>\n",
              "      <td>Gregory, on my word, we’ll not carry coals.</td>\n",
              "      <td>0.000099</td>\n",
              "      <td>0.0</td>\n",
              "      <td>[-0.14115169644355774, 0.5629909634590149, -0....</td>\n",
              "      <td>0.000099</td>\n",
              "    </tr>\n",
              "    <tr>\n",
              "      <th>2</th>\n",
              "      <td>SAMPSON</td>\n",
              "      <td>GREGORY</td>\n",
              "      <td>1</td>\n",
              "      <td>2</td>\n",
              "      <td>Gregory, on my word, we’ll not carry coals.</td>\n",
              "      <td>0.000099</td>\n",
              "      <td>-0.062038</td>\n",
              "      <td>[-0.14115169644355774, 0.5629909634590149, -0....</td>\n",
              "      <td>0.000099</td>\n",
              "    </tr>\n",
              "    <tr>\n",
              "      <th>3</th>\n",
              "      <td>GREGORY</td>\n",
              "      <td>SAMPSON</td>\n",
              "      <td>2</td>\n",
              "      <td>1</td>\n",
              "      <td>No, for then we should be colliers.</td>\n",
              "      <td>0.000099</td>\n",
              "      <td>-0.087993</td>\n",
              "      <td>[-0.1291680932044983, 0.28564387559890747, -0....</td>\n",
              "      <td>0.000099</td>\n",
              "    </tr>\n",
              "    <tr>\n",
              "      <th>4</th>\n",
              "      <td>GREGORY</td>\n",
              "      <td>SAMPSON</td>\n",
              "      <td>2</td>\n",
              "      <td>1</td>\n",
              "      <td>No, for then we should be colliers.</td>\n",
              "      <td>0.000099</td>\n",
              "      <td>-0.087993</td>\n",
              "      <td>[-0.1291680932044983, 0.28564387559890747, -0....</td>\n",
              "      <td>0.000099</td>\n",
              "    </tr>\n",
              "    <tr>\n",
              "      <th>...</th>\n",
              "      <td>...</td>\n",
              "      <td>...</td>\n",
              "      <td>...</td>\n",
              "      <td>...</td>\n",
              "      <td>...</td>\n",
              "      <td>...</td>\n",
              "      <td>...</td>\n",
              "      <td>...</td>\n",
              "      <td>...</td>\n",
              "    </tr>\n",
              "    <tr>\n",
              "      <th>1006</th>\n",
              "      <td>JULIET</td>\n",
              "      <td>NURSE</td>\n",
              "      <td>16</td>\n",
              "      <td>15</td>\n",
              "      <td>Can heaven be so envious?</td>\n",
              "      <td>0.205299</td>\n",
              "      <td>0.125561</td>\n",
              "      <td>[-0.046831000596284866, 0.32883015275001526, 0...</td>\n",
              "      <td>0.205299</td>\n",
              "    </tr>\n",
              "    <tr>\n",
              "      <th>1007</th>\n",
              "      <td>NURSE</td>\n",
              "      <td>JULIET</td>\n",
              "      <td>15</td>\n",
              "      <td>16</td>\n",
              "      <td>Romeo can, Though heaven cannot. O Romeo, Rome...</td>\n",
              "      <td>0.500679</td>\n",
              "      <td>0.040476</td>\n",
              "      <td>[-0.263814777135849, 0.02702399529516697, -0.1...</td>\n",
              "      <td>0.500679</td>\n",
              "    </tr>\n",
              "    <tr>\n",
              "      <th>1008</th>\n",
              "      <td>NURSE</td>\n",
              "      <td>JULIET</td>\n",
              "      <td>15</td>\n",
              "      <td>16</td>\n",
              "      <td>Romeo can, Though heaven cannot. O Romeo, Rome...</td>\n",
              "      <td>0.500679</td>\n",
              "      <td>0.040476</td>\n",
              "      <td>[-0.263814777135849, 0.02702399529516697, -0.1...</td>\n",
              "      <td>0.500679</td>\n",
              "    </tr>\n",
              "    <tr>\n",
              "      <th>1009</th>\n",
              "      <td>JULIET</td>\n",
              "      <td>NURSE</td>\n",
              "      <td>16</td>\n",
              "      <td>15</td>\n",
              "      <td>What devil art thou, that dost torment me thus...</td>\n",
              "      <td>-0.855171</td>\n",
              "      <td>0.125561</td>\n",
              "      <td>[-0.45693424344062805, 0.2435566782951355, -0....</td>\n",
              "      <td>-0.855171</td>\n",
              "    </tr>\n",
              "    <tr>\n",
              "      <th>1010</th>\n",
              "      <td>JULIET</td>\n",
              "      <td>NURSE</td>\n",
              "      <td>16</td>\n",
              "      <td>15</td>\n",
              "      <td>What devil art thou, that dost torment me thus...</td>\n",
              "      <td>-0.855171</td>\n",
              "      <td>0.125561</td>\n",
              "      <td>[-0.45693424344062805, 0.2435566782951355, -0....</td>\n",
              "      <td>-0.855171</td>\n",
              "    </tr>\n",
              "  </tbody>\n",
              "</table>\n",
              "<p>1011 rows × 9 columns</p>\n",
              "</div>"
            ],
            "text/plain": [
              "      speaker listener speaker_index listener_index  \\\n",
              "0      CHORUS  SAMPSON             0              1   \n",
              "1     SAMPSON   CHORUS             1              0   \n",
              "2     SAMPSON  GREGORY             1              2   \n",
              "3     GREGORY  SAMPSON             2              1   \n",
              "4     GREGORY  SAMPSON             2              1   \n",
              "...       ...      ...           ...            ...   \n",
              "1006   JULIET    NURSE            16             15   \n",
              "1007    NURSE   JULIET            15             16   \n",
              "1008    NURSE   JULIET            15             16   \n",
              "1009   JULIET    NURSE            16             15   \n",
              "1010   JULIET    NURSE            16             15   \n",
              "\n",
              "                                               dialogue dialogue_sentiment  \\\n",
              "0     Two households, both alike in dignity, In fair...          -0.514611   \n",
              "1           Gregory, on my word, we’ll not carry coals.           0.000099   \n",
              "2           Gregory, on my word, we’ll not carry coals.           0.000099   \n",
              "3                   No, for then we should be colliers.           0.000099   \n",
              "4                   No, for then we should be colliers.           0.000099   \n",
              "...                                                 ...                ...   \n",
              "1006                          Can heaven be so envious?           0.205299   \n",
              "1007  Romeo can, Though heaven cannot. O Romeo, Rome...           0.500679   \n",
              "1008  Romeo can, Though heaven cannot. O Romeo, Rome...           0.500679   \n",
              "1009  What devil art thou, that dost torment me thus...          -0.855171   \n",
              "1010  What devil art thou, that dost torment me thus...          -0.855171   \n",
              "\n",
              "     avg_sentiment                                               bert  \\\n",
              "0          -0.5719  [-0.062187887728214264, 0.04341184347867966, 0...   \n",
              "1              0.0  [-0.14115169644355774, 0.5629909634590149, -0....   \n",
              "2        -0.062038  [-0.14115169644355774, 0.5629909634590149, -0....   \n",
              "3        -0.087993  [-0.1291680932044983, 0.28564387559890747, -0....   \n",
              "4        -0.087993  [-0.1291680932044983, 0.28564387559890747, -0....   \n",
              "...            ...                                                ...   \n",
              "1006      0.125561  [-0.046831000596284866, 0.32883015275001526, 0...   \n",
              "1007      0.040476  [-0.263814777135849, 0.02702399529516697, -0.1...   \n",
              "1008      0.040476  [-0.263814777135849, 0.02702399529516697, -0.1...   \n",
              "1009      0.125561  [-0.45693424344062805, 0.2435566782951355, -0....   \n",
              "1010      0.125561  [-0.45693424344062805, 0.2435566782951355, -0....   \n",
              "\n",
              "     smoothed_dialogue_sentiment  \n",
              "0                      -0.514611  \n",
              "1                       0.000099  \n",
              "2                       0.000099  \n",
              "3                       0.000099  \n",
              "4                       0.000099  \n",
              "...                          ...  \n",
              "1006                    0.205299  \n",
              "1007                    0.500679  \n",
              "1008                    0.500679  \n",
              "1009                   -0.855171  \n",
              "1010                   -0.855171  \n",
              "\n",
              "[1011 rows x 9 columns]"
            ]
          },
          "execution_count": 73,
          "metadata": {},
          "output_type": "execute_result"
        }
      ],
      "source": [
        "train_data"
      ]
    },
    {
      "attachments": {},
      "cell_type": "markdown",
      "metadata": {},
      "source": [
        "## Training"
      ]
    },
    {
      "attachments": {},
      "cell_type": "markdown",
      "metadata": {},
      "source": [
        "Note: With the values of hyperparameters, as given, training takes ~20 minutes!"
      ]
    },
    {
      "cell_type": "code",
      "execution_count": 80,
      "metadata": {},
      "outputs": [],
      "source": [
        "# Data extraction functions \n",
        "def get_ground_truth(datapoint, smoothed=True):\n",
        "    if smoothed:\n",
        "        return datapoint['smoothed_dialogue_sentiment']\n",
        "    else:\n",
        "        return datapoint['dialogue_sentiment']\n",
        "\n",
        "def get_bert_embedding(datapoint):\n",
        "    return datapoint['bert']\n",
        "\n",
        "def get_speaker(datapoint):\n",
        "    return datapoint['speaker_index']\n",
        "\n",
        "def get_listener(datapoint):\n",
        "    return datapoint['listener_index']\n",
        "\n",
        "def get_dialogue(datapoint):\n",
        "    return datapoint['dialogue']"
      ]
    },
    {
      "cell_type": "code",
      "execution_count": 74,
      "metadata": {},
      "outputs": [],
      "source": [
        "def run_validation(model, criterion, character_embeddings, valid_data, hyperparameters):\n",
        "    \"\"\"\n",
        "    Returns average validation loss for a given model and validation dataset.\n",
        "    \"\"\"\n",
        "    val_losses = []\n",
        "    for index, row in valid_data.iterrows():\n",
        "        dialog_gt = get_ground_truth(row, smoothed=hyperparameters['smooth_labels'])\n",
        "        y = torch.tensor(dialog_gt).view(-1, 1).to(torch_device) \n",
        "\n",
        "        # Fetch embeddings\n",
        "        bert_val = get_bert_embedding(row)\n",
        "        bert_row = np.array([float(val) for val in bert_val.strip('][').split(', ')])\n",
        "        bert_embed = torch.from_numpy(bert_row).float().to(torch_device)\n",
        "\n",
        "        # Fetch speaker and listener\n",
        "        speaker = torch.tensor([row['speaker_index']]).to(torch_device)\n",
        "        listener = torch.tensor([row['listener_index']]).to(torch_device)\n",
        "\n",
        "        with torch.no_grad():\n",
        "            _, output = model(character_embeddings, bert_embed, speaker, listener)\n",
        "        loss = criterion(output, y)\n",
        "        val_losses.append(loss.item())\n",
        "\n",
        "    return np.mean(val_losses)"
      ]
    },
    {
      "cell_type": "code",
      "execution_count": 75,
      "metadata": {
        "colab": {
          "base_uri": "https://localhost:8080/",
          "height": 1000
        },
        "id": "nEaMiMEQlmDW",
        "outputId": "d8296060-00c2-4a7c-b2cd-b07258fa24c4"
      },
      "outputs": [],
      "source": [
        "def train_loop(model, optimizer, criterion, scheduler, character_embeddings, train_data, valid_data, hyperparameters, print_every = 1000):\n",
        "  # Character embeddings are randomly initialized\n",
        "  torch.autograd.set_detect_anomaly(True)\n",
        "  losses = {}\n",
        "  all_losses = []\n",
        "  val_losses = []\n",
        "\n",
        "  print('Running training dialogues:', len(train_data))\n",
        "  epochs = hyperparameters['epochs']\n",
        "  iters_per_dialog = hyperparameters['iters_per_dialog']\n",
        "  for epoch in range(epochs):\n",
        "    for index, row in tqdm.tqdm(train_data.iterrows()):\n",
        "      for j in range(iters_per_dialog):\n",
        "\n",
        "        # Fetch ground truth\n",
        "        dialog_gt = get_ground_truth(row, smoothed=hyperparameters['smooth_labels'])\n",
        "        y = torch.tensor(dialog_gt).view(-1, 1).to(torch_device) \n",
        "\n",
        "        # Fetch embeddings\n",
        "        bert_val = get_bert_embedding(row)\n",
        "        bert_row = np.array([float(val) for val in bert_val.strip('][').split(', ')])\n",
        "        bert_embed = torch.from_numpy(bert_row).float().to(torch_device)\n",
        "\n",
        "        # Fetch speaker and listener\n",
        "        speaker = torch.tensor([get_speaker(row)]).to(torch_device)\n",
        "        listener = torch.tensor([get_listener(row)]).to(torch_device)\n",
        "\n",
        "        character_embeddings, y_pred = model(character_embeddings, bert_embed, speaker, \n",
        "                                            listener) \n",
        "        \n",
        "        # Compute and print loss\n",
        "        loss = criterion(y_pred, y)\n",
        "        all_losses.append(loss.item())\n",
        "\n",
        "        optimizer.zero_grad()\n",
        "        loss.backward()\n",
        "        optimizer.step()\n",
        "\n",
        "        if index % print_every == 0 and j == iters_per_dialog - 1:\n",
        "          plt.plot(all_losses)\n",
        "          plt.xlim(0, len(train_data) * epochs)\n",
        "          plt.show()\n",
        "          avg_of_last_print_every_losses = np.mean(all_losses[-print_every:])\n",
        "          print(f'Epoch {epoch}, loss {avg_of_last_print_every_losses}')\n",
        "      \n",
        "        chars = [row['speaker'], row['listener']]\n",
        "        chars.sort()\n",
        "        key = chars[0] + ';' + chars[1]\n",
        "        losses[key] = losses.get(key, [])\n",
        "        losses[key].append(loss.cpu().detach().numpy())\n",
        "\n",
        "        all_losses += [float(loss.cpu().detach().numpy())] \n",
        "    \n",
        "    # calculate validation loss\n",
        "    val_loss = run_validation(model, criterion, character_embeddings, valid_data, hyperparameters)\n",
        "    val_losses.append(val_loss)\n",
        "    print(f'Epoch {epoch}, validation loss {val_loss}')\n",
        "\n",
        "    # update learning rate\n",
        "    scheduler.step(val_loss)\n",
        "  \n",
        "  return losses, all_losses, val_losses"
      ]
    },
    {
      "cell_type": "code",
      "execution_count": 76,
      "metadata": {},
      "outputs": [],
      "source": [
        "# Complex loss function \n",
        "class SignedMSELoss(nn.Module):\n",
        "    def __init__(self, alpha=0.9, beta=0.1):\n",
        "        super().__init__()\n",
        "        self.alpha = alpha\n",
        "        self.beta = beta\n",
        "\n",
        "    def forward(self, y_pred, y_true):\n",
        "        mse_loss = nn.MSELoss()(y_pred, y_true)\n",
        "        hinge_loss = torch.max(torch.zeros_like(y_true), 1 - y_true * y_pred)\n",
        "        signed_loss = self.alpha * mse_loss + self.beta * hinge_loss.mean()\n",
        "        return signed_loss"
      ]
    },
    {
      "cell_type": "code",
      "execution_count": 77,
      "metadata": {},
      "outputs": [],
      "source": [
        "# Learning rate scheduler to prevent overfitting\n",
        "def get_scheduler(optimizer):\n",
        "    scheduler = torch.optim.lr_scheduler.ReduceLROnPlateau(optimizer, 'min', patience=2, verbose=True)\n",
        "    return scheduler"
      ]
    },
    {
      "cell_type": "code",
      "execution_count": 90,
      "metadata": {},
      "outputs": [],
      "source": [
        "# Hyperparameters\n",
        "character_embedding_dim = 4\n",
        "bert_dim = 768\n",
        "edge_dim = 16\n",
        "epochs = 8\n",
        "iters_per_dialog = 1"
      ]
    },
    {
      "cell_type": "code",
      "execution_count": 91,
      "metadata": {},
      "outputs": [
        {
          "name": "stdout",
          "output_type": "stream",
          "text": [
            "Running training dialogues: 1011\n"
          ]
        },
        {
          "name": "stderr",
          "output_type": "stream",
          "text": [
            "0it [00:00, ?it/s]"
          ]
        },
        {
          "data": {
            "image/png": "[encoded data removed]",
            "text/plain": [
              "<Figure size 640x480 with 1 Axes>"
            ]
          },
          "metadata": {},
          "output_type": "display_data"
        },
        {
          "name": "stderr",
          "output_type": "stream",
          "text": [
            "3it [00:00, 27.74it/s]"
          ]
        },
        {
          "name": "stdout",
          "output_type": "stream",
          "text": [
            "Epoch 0, loss 1.4454121589660645\n"
          ]
        },
        {
          "name": "stderr",
          "output_type": "stream",
          "text": [
            "993it [00:11, 88.02it/s]"
          ]
        },
        {
          "data": {
            "image/png": "[encoded data removed]",
            "text/plain": [
              "<Figure size 640x480 with 1 Axes>"
            ]
          },
          "metadata": {},
          "output_type": "display_data"
        },
        {
          "name": "stderr",
          "output_type": "stream",
          "text": [
            "1011it [00:11, 86.79it/s]"
          ]
        },
        {
          "name": "stdout",
          "output_type": "stream",
          "text": [
            "Epoch 0, loss 0.2742076232880354\n"
          ]
        },
        {
          "name": "stderr",
          "output_type": "stream",
          "text": [
            "\n"
          ]
        },
        {
          "name": "stdout",
          "output_type": "stream",
          "text": [
            "Epoch 0, validation loss 0.3271734580309172\n"
          ]
        },
        {
          "name": "stderr",
          "output_type": "stream",
          "text": [
            "0it [00:00, ?it/s]"
          ]
        },
        {
          "data": {
            "image/png": "[encoded data removed]",
            "text/plain": [
              "<Figure size 640x480 with 1 Axes>"
            ]
          },
          "metadata": {},
          "output_type": "display_data"
        },
        {
          "name": "stderr",
          "output_type": "stream",
          "text": [
            "3it [00:00, 28.99it/s]"
          ]
        },
        {
          "name": "stdout",
          "output_type": "stream",
          "text": [
            "Epoch 1, loss 0.2786656301766634\n"
          ]
        },
        {
          "name": "stderr",
          "output_type": "stream",
          "text": [
            "993it [00:11, 87.78it/s]"
          ]
        },
        {
          "data": {
            "image/png": "[encoded data removed]",
            "text/plain": [
              "<Figure size 640x480 with 1 Axes>"
            ]
          },
          "metadata": {},
          "output_type": "display_data"
        },
        {
          "name": "stderr",
          "output_type": "stream",
          "text": [
            "1011it [00:11, 86.42it/s]"
          ]
        },
        {
          "name": "stdout",
          "output_type": "stream",
          "text": [
            "Epoch 1, loss 0.2737760035842657\n"
          ]
        },
        {
          "name": "stderr",
          "output_type": "stream",
          "text": [
            "\n"
          ]
        },
        {
          "name": "stdout",
          "output_type": "stream",
          "text": [
            "Epoch 1, validation loss 0.3271789462347059\n"
          ]
        },
        {
          "name": "stderr",
          "output_type": "stream",
          "text": [
            "0it [00:00, ?it/s]"
          ]
        },
        {
          "data": {
            "image/png": "[encoded data removed]",
            "text/plain": [
              "<Figure size 640x480 with 1 Axes>"
            ]
          },
          "metadata": {},
          "output_type": "display_data"
        },
        {
          "name": "stderr",
          "output_type": "stream",
          "text": [
            "3it [00:00, 28.25it/s]"
          ]
        },
        {
          "name": "stdout",
          "output_type": "stream",
          "text": [
            "Epoch 2, loss 0.27679639057815075\n"
          ]
        },
        {
          "name": "stderr",
          "output_type": "stream",
          "text": [
            "993it [00:11, 87.82it/s]"
          ]
        },
        {
          "data": {
            "image/png": "[encoded data removed]",
            "text/plain": [
              "<Figure size 640x480 with 1 Axes>"
            ]
          },
          "metadata": {},
          "output_type": "display_data"
        },
        {
          "name": "stderr",
          "output_type": "stream",
          "text": [
            "1011it [00:11, 86.40it/s]"
          ]
        },
        {
          "name": "stdout",
          "output_type": "stream",
          "text": [
            "Epoch 2, loss 0.2737692178636789\n"
          ]
        },
        {
          "name": "stderr",
          "output_type": "stream",
          "text": [
            "\n"
          ]
        },
        {
          "name": "stdout",
          "output_type": "stream",
          "text": [
            "Epoch 2, validation loss 0.3271791712997221\n"
          ]
        },
        {
          "name": "stderr",
          "output_type": "stream",
          "text": [
            "0it [00:00, ?it/s]"
          ]
        },
        {
          "data": {
            "image/png": "[encoded data removed]",
            "text/plain": [
              "<Figure size 640x480 with 1 Axes>"
            ]
          },
          "metadata": {},
          "output_type": "display_data"
        },
        {
          "name": "stderr",
          "output_type": "stream",
          "text": [
            "3it [00:00, 28.31it/s]"
          ]
        },
        {
          "name": "stdout",
          "output_type": "stream",
          "text": [
            "Epoch 3, loss 0.27678954748809337\n"
          ]
        },
        {
          "name": "stderr",
          "output_type": "stream",
          "text": [
            "993it [00:11, 87.89it/s]"
          ]
        },
        {
          "data": {
            "image/png": "[encoded data removed]",
            "text/plain": [
              "<Figure size 640x480 with 1 Axes>"
            ]
          },
          "metadata": {},
          "output_type": "display_data"
        },
        {
          "name": "stderr",
          "output_type": "stream",
          "text": [
            "1011it [00:11, 86.63it/s]"
          ]
        },
        {
          "name": "stdout",
          "output_type": "stream",
          "text": [
            "Epoch 3, loss 0.27376855777204034\n"
          ]
        },
        {
          "name": "stderr",
          "output_type": "stream",
          "text": [
            "\n"
          ]
        },
        {
          "name": "stdout",
          "output_type": "stream",
          "text": [
            "Epoch 3, validation loss 0.3271791725820179\n",
            "Epoch 00004: reducing learning rate of group 0 to 1.0000e-04.\n"
          ]
        },
        {
          "name": "stderr",
          "output_type": "stream",
          "text": [
            "0it [00:00, ?it/s]"
          ]
        },
        {
          "data": {
            "image/png": "[encoded data removed]",
            "text/plain": [
              "<Figure size 640x480 with 1 Axes>"
            ]
          },
          "metadata": {},
          "output_type": "display_data"
        },
        {
          "name": "stderr",
          "output_type": "stream",
          "text": [
            "3it [00:00, 27.77it/s]"
          ]
        },
        {
          "name": "stdout",
          "output_type": "stream",
          "text": [
            "Epoch 4, loss 0.27678888727724554\n"
          ]
        },
        {
          "name": "stderr",
          "output_type": "stream",
          "text": [
            "993it [00:11, 87.85it/s]"
          ]
        },
        {
          "data": {
            "image/png": "[encoded data removed]",
            "text/plain": [
              "<Figure size 640x480 with 1 Axes>"
            ]
          },
          "metadata": {},
          "output_type": "display_data"
        },
        {
          "name": "stderr",
          "output_type": "stream",
          "text": [
            "1011it [00:11, 86.45it/s]"
          ]
        },
        {
          "name": "stdout",
          "output_type": "stream",
          "text": [
            "Epoch 4, loss 0.2737684118449688\n"
          ]
        },
        {
          "name": "stderr",
          "output_type": "stream",
          "text": [
            "\n"
          ]
        },
        {
          "name": "stdout",
          "output_type": "stream",
          "text": [
            "Epoch 4, validation loss 0.3271791727588863\n"
          ]
        },
        {
          "name": "stderr",
          "output_type": "stream",
          "text": [
            "0it [00:00, ?it/s]"
          ]
        },
        {
          "data": {
            "image/png": "[encoded data removed]",
            "text/plain": [
              "<Figure size 640x480 with 1 Axes>"
            ]
          },
          "metadata": {},
          "output_type": "display_data"
        },
        {
          "name": "stderr",
          "output_type": "stream",
          "text": [
            "3it [00:00, 27.90it/s]"
          ]
        },
        {
          "name": "stdout",
          "output_type": "stream",
          "text": [
            "Epoch 5, loss 0.27678874135017395\n"
          ]
        },
        {
          "name": "stderr",
          "output_type": "stream",
          "text": [
            "993it [00:11, 87.72it/s]"
          ]
        },
        {
          "data": {
            "image/png": "[encoded data removed]",
            "text/plain": [
              "<Figure size 640x480 with 1 Axes>"
            ]
          },
          "metadata": {},
          "output_type": "display_data"
        },
        {
          "name": "stderr",
          "output_type": "stream",
          "text": [
            "1011it [00:11, 85.77it/s]"
          ]
        },
        {
          "name": "stdout",
          "output_type": "stream",
          "text": [
            "Epoch 5, loss 0.2737683942168951\n"
          ]
        },
        {
          "name": "stderr",
          "output_type": "stream",
          "text": [
            "\n"
          ]
        },
        {
          "name": "stdout",
          "output_type": "stream",
          "text": [
            "Epoch 5, validation loss 0.3271791727588863\n"
          ]
        },
        {
          "name": "stderr",
          "output_type": "stream",
          "text": [
            "0it [00:00, ?it/s]"
          ]
        },
        {
          "data": {
            "image/png": "[encoded data removed]",
            "text/plain": [
              "<Figure size 640x480 with 1 Axes>"
            ]
          },
          "metadata": {},
          "output_type": "display_data"
        },
        {
          "name": "stderr",
          "output_type": "stream",
          "text": [
            "3it [00:00, 27.14it/s]"
          ]
        },
        {
          "name": "stdout",
          "output_type": "stream",
          "text": [
            "Epoch 6, loss 0.2767887237221003\n"
          ]
        },
        {
          "name": "stderr",
          "output_type": "stream",
          "text": [
            "993it [00:11, 87.16it/s]"
          ]
        },
        {
          "data": {
            "image/png": "[encoded data removed]",
            "text/plain": [
              "<Figure size 640x480 with 1 Axes>"
            ]
          },
          "metadata": {},
          "output_type": "display_data"
        },
        {
          "name": "stderr",
          "output_type": "stream",
          "text": [
            "1011it [00:11, 86.40it/s]"
          ]
        },
        {
          "name": "stdout",
          "output_type": "stream",
          "text": [
            "Epoch 6, loss 0.2737683919519186\n"
          ]
        },
        {
          "name": "stderr",
          "output_type": "stream",
          "text": [
            "\n"
          ]
        },
        {
          "name": "stdout",
          "output_type": "stream",
          "text": [
            "Epoch 6, validation loss 0.3271791727588863\n",
            "Epoch 00007: reducing learning rate of group 0 to 1.0000e-05.\n"
          ]
        },
        {
          "name": "stderr",
          "output_type": "stream",
          "text": [
            "0it [00:00, ?it/s]"
          ]
        },
        {
          "data": {
            "image/png": "[encoded data removed]",
            "text/plain": [
              "<Figure size 640x480 with 1 Axes>"
            ]
          },
          "metadata": {},
          "output_type": "display_data"
        },
        {
          "name": "stderr",
          "output_type": "stream",
          "text": [
            "3it [00:00, 27.43it/s]"
          ]
        },
        {
          "name": "stdout",
          "output_type": "stream",
          "text": [
            "Epoch 7, loss 0.27678872145712374\n"
          ]
        },
        {
          "name": "stderr",
          "output_type": "stream",
          "text": [
            "993it [00:11, 89.00it/s]"
          ]
        },
        {
          "data": {
            "image/png": "[encoded data removed]",
            "text/plain": [
              "<Figure size 640x480 with 1 Axes>"
            ]
          },
          "metadata": {},
          "output_type": "display_data"
        },
        {
          "name": "stderr",
          "output_type": "stream",
          "text": [
            "1011it [00:11, 85.75it/s]"
          ]
        },
        {
          "name": "stdout",
          "output_type": "stream",
          "text": [
            "Epoch 7, loss 0.27376839135587216\n"
          ]
        },
        {
          "name": "stderr",
          "output_type": "stream",
          "text": [
            "\n"
          ]
        },
        {
          "name": "stdout",
          "output_type": "stream",
          "text": [
            "Epoch 7, validation loss 0.3271791727588863\n"
          ]
        }
      ],
      "source": [
        "# Run the training loop\n",
        "hyperparameters = {'epochs': epochs, 'iters_per_dialog': iters_per_dialog, 'smooth_labels': True}\n",
        "model = GCLWithHeadBert(character_embedding_dim, bert_dim, edge_dim, 1).to(torch_device)\n",
        "optimizer = torch.optim.Adam(model.parameters(), weight_decay=1e-2)\n",
        "criterion = SignedMSELoss()\n",
        "scheduler = get_scheduler(optimizer)\n",
        "character_embeddings = torch.rand((len(character_enum), character_embedding_dim)).to(torch_device)\n",
        "losses, all_losses, val_losses = train_loop(model, optimizer, criterion, scheduler, character_embeddings, train_data, valid_data, hyperparameters)"
      ]
    },
    {
      "cell_type": "code",
      "execution_count": 93,
      "metadata": {
        "colab": {
          "base_uri": "https://localhost:8080/",
          "height": 448
        },
        "id": "35VUqF_Ib1jb",
        "outputId": "7c839986-ca52-45b2-ea64-a859e3a3bcb4"
      },
      "outputs": [
        {
          "data": {
            "image/png": "[encoded data removed]",
            "text/plain": [
              "<Figure size 640x480 with 1 Axes>"
            ]
          },
          "metadata": {},
          "output_type": "display_data"
        },
        {
          "data": {
            "image/png": "[encoded data removed]",
            "text/plain": [
              "<Figure size 640x480 with 1 Axes>"
            ]
          },
          "metadata": {},
          "output_type": "display_data"
        }
      ],
      "source": [
        "def get_avg_losses(loss, size):\n",
        "    \"\"\"\n",
        "    For the list of losses, create a new list averaging together every size elements\n",
        "    \"\"\"\n",
        "    avg_loss = []\n",
        "    for i in range(0, len(loss), size):\n",
        "        avg_loss.append(sum(loss[i:i+size])/size)\n",
        "    return avg_loss[:-1]\n",
        "  \n",
        "avg_losses = get_avg_losses(all_losses, 1011)\n",
        "plt.plot(range(len(avg_losses)), avg_losses)\n",
        "plt.title(\"Training Loss\")\n",
        "plt.xlabel(\"Epochs\")\n",
        "plt.ylabel(\"Loss\")\n",
        "plt.show()\n",
        "\n",
        "avg_val_losses = get_avg_losses(val_losses, 1)\n",
        "plt.plot(range(len(avg_val_losses)), avg_val_losses)\n",
        "plt.title(\"Validation Loss\")\n",
        "plt.xlabel(\"Epochs\")\n",
        "plt.ylabel(\"Loss\")\n",
        "plt.show()"
      ]
    },
    {
      "attachments": {},
      "cell_type": "markdown",
      "metadata": {},
      "source": [
        "## Evaluation Loop"
      ]
    },
    {
      "cell_type": "code",
      "execution_count": 94,
      "metadata": {
        "colab": {
          "base_uri": "https://localhost:8080/",
          "height": 865
        },
        "id": "ExiXLLuKs8Fl",
        "outputId": "56269ee3-94e0-4334-96dd-cc02da95187a"
      },
      "outputs": [],
      "source": [
        "def eval_loop(model, criterion, character_embeddings, test_data, verbose = True):\n",
        "  correct, incorrect = 0, 0\n",
        "  losses = []\n",
        "  for index, row in tqdm.tqdm(test_data.iterrows()):\n",
        "    dialog_gt = row['dialogue_sentiment']\n",
        "    y = torch.tensor(dialog_gt).view(-1, 1).to(torch_device)\n",
        "    \n",
        "    # Forward pass: Compute predicted y by passing x to the model\n",
        "    bert_value = get_bert_embedding(row)\n",
        "    bert_row = np.array([float(val) for val in bert_value.strip('][').split(', ')])\n",
        "    bert_embed = torch.from_numpy(bert_row).float().to(torch_device)\n",
        "    speaker = torch.tensor([get_speaker(row)]).to(torch_device)\n",
        "    listener = torch.tensor([get_listener(row)]).to(torch_device)\n",
        "\n",
        "    with torch.no_grad():\n",
        "      character_embeddings, y_pred = model(character_embeddings, bert_embed, speaker, \n",
        "                                            listener)\n",
        "      \n",
        "    # if y_pred and y are the same sign, increment correct, else increment incorrect\n",
        "    if y_pred.item() * y.item() > 0:\n",
        "      correct += 1\n",
        "    else:\n",
        "      incorrect += 1\n",
        "\n",
        "    # Compute and print loss\n",
        "    loss = criterion(y_pred, y)\n",
        "    losses.append(loss.item())\n",
        "\n",
        "  if verbose:\n",
        "    # printing correctness/incorrect measured by direction\n",
        "    print('accuracy', correct/(correct + incorrect))\n",
        "  correctness = correct / (correct + incorrect)\n",
        "\n",
        "  # printing accuracy based on loss\n",
        "  loss_np = np.array(losses)\n",
        "  accuracies = []\n",
        "  for boundary in [0.1, 0.2, 0.3, 0.4, 0.5, 0.6, 0.7, 0.8, 0.9, 1]:\n",
        "    boolean = loss_np[loss_np <= boundary]\n",
        "    if verbose:\n",
        "      print(f\"With error margin {boundary}, accuracy = {len(boolean) / len(loss_np)}\")\n",
        "    accuracies.append(len(boolean) / len(loss_np))\n",
        "  if verbose:\n",
        "    plt.plot([0.1, 0.2, 0.3, 0.4, 0.5, 0.6, 0.7, 0.8, 0.9, 1], accuracies, label='MSE Loss')\n",
        "    plt.xlabel('Margin')\n",
        "    plt.ylabel('Percent within Margin')\n",
        "    plt.title('Loss Percent within Loss Margin')\n",
        "\n",
        "  return losses, correctness, accuracies"
      ]
    },
    {
      "cell_type": "code",
      "execution_count": 95,
      "metadata": {},
      "outputs": [
        {
          "name": "stderr",
          "output_type": "stream",
          "text": [
            "338it [00:00, 965.62it/s]"
          ]
        },
        {
          "name": "stdout",
          "output_type": "stream",
          "text": [
            "accuracy 0.6301775147928994\n",
            "With error margin 0.1, accuracy = 0.026627218934911243\n",
            "With error margin 0.2, accuracy = 0.5\n",
            "With error margin 0.3, accuracy = 0.5769230769230769\n",
            "With error margin 0.4, accuracy = 0.7011834319526628\n",
            "With error margin 0.5, accuracy = 0.757396449704142\n",
            "With error margin 0.6, accuracy = 0.8165680473372781\n",
            "With error margin 0.7, accuracy = 0.8875739644970414\n",
            "With error margin 0.8, accuracy = 0.9319526627218935\n",
            "With error margin 0.9, accuracy = 0.9792899408284024\n",
            "With error margin 1, accuracy = 0.9822485207100592\n"
          ]
        },
        {
          "name": "stderr",
          "output_type": "stream",
          "text": [
            "\n"
          ]
        },
        {
          "data": {
            "text/plain": [
              "([0.2825179994106293,\n",
              "  0.252002477645874,\n",
              "  0.245934396982193,\n",
              "  0.1295953392982483,\n",
              "  0.14596527814865112,\n",
              "  0.1118539497256279,\n",
              "  0.12232449650764465,\n",
              "  0.17236004769802094,\n",
              "  0.18432265520095825,\n",
              "  0.17400433123111725,\n",
              "  0.16137975454330444,\n",
              "  0.1478777974843979,\n",
              "  0.13916757702827454,\n",
              "  0.3014586269855499,\n",
              "  0.3201073110103607,\n",
              "  0.3237033784389496,\n",
              "  0.3395187258720398,\n",
              "  0.2731998860836029,\n",
              "  0.20495197176933289,\n",
              "  0.17656415700912476,\n",
              "  0.14808662235736847,\n",
              "  0.11636653542518616,\n",
              "  0.11307476460933685,\n",
              "  0.12589852511882782,\n",
              "  0.12085969746112823,\n",
              "  0.5606759190559387,\n",
              "  0.5901303887367249,\n",
              "  0.6086680889129639,\n",
              "  0.5373378396034241,\n",
              "  0.15953972935676575,\n",
              "  0.1681717038154602,\n",
              "  0.22339928150177002,\n",
              "  0.23015066981315613,\n",
              "  0.1770251989364624,\n",
              "  0.1833188235759735,\n",
              "  0.5721620321273804,\n",
              "  0.5641536712646484,\n",
              "  0.1032361388206482,\n",
              "  0.11449022591114044,\n",
              "  0.11465486139059067,\n",
              "  0.10868385434150696,\n",
              "  0.16834232211112976,\n",
              "  0.17222146689891815,\n",
              "  0.13128945231437683,\n",
              "  0.12865343689918518,\n",
              "  0.36309608817100525,\n",
              "  0.3481500446796417,\n",
              "  0.10084132105112076,\n",
              "  0.10065365582704544,\n",
              "  0.10022559016942978,\n",
              "  0.10174213349819183,\n",
              "  0.11216137558221817,\n",
              "  0.10966559499502182,\n",
              "  0.10082383453845978,\n",
              "  0.10125012695789337,\n",
              "  0.13673792779445648,\n",
              "  0.14084962010383606,\n",
              "  0.4539746642112732,\n",
              "  0.45588135719299316,\n",
              "  0.10351680964231491,\n",
              "  0.1409863382577896,\n",
              "  0.14759233593940735,\n",
              "  0.19909492135047913,\n",
              "  0.10190543532371521,\n",
              "  0.10148746520280838,\n",
              "  0.25590211153030396,\n",
              "  0.2525530159473419,\n",
              "  0.0999535545706749,\n",
              "  0.09994317591190338,\n",
              "  0.10043442994356155,\n",
              "  0.10033632069826126,\n",
              "  0.4718339145183563,\n",
              "  0.4855457842350006,\n",
              "  0.26829585433006287,\n",
              "  0.2698996663093567,\n",
              "  0.6652156710624695,\n",
              "  0.6714115142822266,\n",
              "  0.7531028985977173,\n",
              "  0.7423130869865417,\n",
              "  0.5499524474143982,\n",
              "  0.5515251755714417,\n",
              "  0.2316773533821106,\n",
              "  0.23347938060760498,\n",
              "  0.10003086924552917,\n",
              "  0.10000300407409668,\n",
              "  0.3629176914691925,\n",
              "  0.3725796341896057,\n",
              "  0.1664164960384369,\n",
              "  0.16951686143875122,\n",
              "  0.8134048581123352,\n",
              "  0.8142046928405762,\n",
              "  0.10086657851934433,\n",
              "  0.10290639847517014,\n",
              "  0.7789887189865112,\n",
              "  0.7532488107681274,\n",
              "  0.8031898736953735,\n",
              "  0.8520536422729492,\n",
              "  0.8897562623023987,\n",
              "  0.8075041770935059,\n",
              "  0.7860988974571228,\n",
              "  0.7866586446762085,\n",
              "  0.7741116881370544,\n",
              "  0.7790661454200745,\n",
              "  0.3764318823814392,\n",
              "  0.37603259086608887,\n",
              "  0.32545724511146545,\n",
              "  0.6514050364494324,\n",
              "  0.09883877635002136,\n",
              "  0.17534220218658447,\n",
              "  0.35723620653152466,\n",
              "  0.3604387640953064,\n",
              "  0.10308277606964111,\n",
              "  0.16523343324661255,\n",
              "  0.09036292135715485,\n",
              "  0.09092626720666885,\n",
              "  0.1360877901315689,\n",
              "  0.12928973138332367,\n",
              "  0.43448418378829956,\n",
              "  0.4610235095024109,\n",
              "  0.12289903312921524,\n",
              "  0.1278202086687088,\n",
              "  0.11944415420293808,\n",
              "  0.11558295041322708,\n",
              "  0.10604797303676605,\n",
              "  0.10476575046777725,\n",
              "  0.10783910751342773,\n",
              "  0.10619888454675674,\n",
              "  0.10230204463005066,\n",
              "  0.1017991378903389,\n",
              "  0.10469425469636917,\n",
              "  0.10575856268405914,\n",
              "  0.10085126012563705,\n",
              "  0.10066141933202744,\n",
              "  0.18289923667907715,\n",
              "  0.1805470883846283,\n",
              "  0.1003081277012825,\n",
              "  0.10270457714796066,\n",
              "  0.11550292372703552,\n",
              "  0.11155573278665543,\n",
              "  0.35168397426605225,\n",
              "  0.4104764759540558,\n",
              "  0.24488502740859985,\n",
              "  0.24592190980911255,\n",
              "  0.10014627873897552,\n",
              "  0.10211285203695297,\n",
              "  0.10755673795938492,\n",
              "  0.1059701219201088,\n",
              "  0.10100308805704117,\n",
              "  0.10187830030918121,\n",
              "  0.16575193405151367,\n",
              "  0.17187276482582092,\n",
              "  0.10276339203119278,\n",
              "  0.10077507048845291,\n",
              "  0.10001656413078308,\n",
              "  0.10036463290452957,\n",
              "  0.27145013213157654,\n",
              "  0.46390751004219055,\n",
              "  0.4286279082298279,\n",
              "  0.31428709626197815,\n",
              "  0.09042423218488693,\n",
              "  0.09386937320232391,\n",
              "  0.16858524084091187,\n",
              "  0.1567414551973343,\n",
              "  0.1406601518392563,\n",
              "  0.1331084668636322,\n",
              "  0.3231681287288666,\n",
              "  0.3063874840736389,\n",
              "  0.15414895117282867,\n",
              "  0.16173920035362244,\n",
              "  0.10189416259527206,\n",
              "  0.0964244082570076,\n",
              "  1.0181161165237427,\n",
              "  1.333975076675415,\n",
              "  0.20320259034633636,\n",
              "  0.13017457723617554,\n",
              "  1.0139998197555542,\n",
              "  0.986663818359375,\n",
              "  0.6912137269973755,\n",
              "  0.6700136065483093,\n",
              "  0.3562197685241699,\n",
              "  0.3466242551803589,\n",
              "  0.3632510304450989,\n",
              "  0.35386791825294495,\n",
              "  0.39366498589515686,\n",
              "  0.3870289921760559,\n",
              "  0.33208268880844116,\n",
              "  0.33793264627456665,\n",
              "  0.8237283825874329,\n",
              "  0.8720852136611938,\n",
              "  0.11715671420097351,\n",
              "  0.18261869251728058,\n",
              "  0.12754186987876892,\n",
              "  0.13627831637859344,\n",
              "  0.6590296030044556,\n",
              "  0.6275842785835266,\n",
              "  0.11725589632987976,\n",
              "  0.11379268765449524,\n",
              "  0.5675702691078186,\n",
              "  0.5467316508293152,\n",
              "  0.6166895031929016,\n",
              "  0.602868378162384,\n",
              "  0.108178049325943,\n",
              "  0.1064673364162445,\n",
              "  0.8073398470878601,\n",
              "  0.8387804627418518,\n",
              "  0.321391761302948,\n",
              "  0.48902231454849243,\n",
              "  0.14096270501613617,\n",
              "  0.13162767887115479,\n",
              "  0.6691703200340271,\n",
              "  0.6605544686317444,\n",
              "  0.12732088565826416,\n",
              "  0.197488933801651,\n",
              "  0.10626687854528427,\n",
              "  0.10402082651853561,\n",
              "  0.1524231731891632,\n",
              "  0.15433208644390106,\n",
              "  0.5865358710289001,\n",
              "  0.5892819166183472,\n",
              "  0.5377934575080872,\n",
              "  0.5345048904418945,\n",
              "  0.33578819036483765,\n",
              "  0.3376407027244568,\n",
              "  0.6555102467536926,\n",
              "  0.829258143901825,\n",
              "  1.127003788948059,\n",
              "  0.8394262194633484,\n",
              "  0.7416368126869202,\n",
              "  0.7556700706481934,\n",
              "  0.10010254383087158,\n",
              "  0.10007887333631516,\n",
              "  0.2561143636703491,\n",
              "  0.261440634727478,\n",
              "  0.2672532796859741,\n",
              "  0.348339706659317,\n",
              "  0.10355561226606369,\n",
              "  0.1000271812081337,\n",
              "  0.31099238991737366,\n",
              "  0.3106846213340759,\n",
              "  0.5824466943740845,\n",
              "  0.6140073537826538,\n",
              "  0.37873536348342896,\n",
              "  0.3820001780986786,\n",
              "  0.6228783130645752,\n",
              "  0.626154899597168,\n",
              "  0.3791126012802124,\n",
              "  0.38109874725341797,\n",
              "  0.10011172294616699,\n",
              "  0.10008598864078522,\n",
              "  0.10007531940937042,\n",
              "  0.10005785524845123,\n",
              "  0.10003885626792908,\n",
              "  0.10002971440553665,\n",
              "  0.10002593696117401,\n",
              "  0.10001976788043976,\n",
              "  0.10001310706138611,\n",
              "  0.10000992566347122,\n",
              "  0.7530357241630554,\n",
              "  0.7523741722106934,\n",
              "  0.6687448024749756,\n",
              "  0.6682958006858826,\n",
              "  0.17477267980575562,\n",
              "  0.1746385097503662,\n",
              "  0.38914746046066284,\n",
              "  0.38683223724365234,\n",
              "  0.4470405578613281,\n",
              "  0.4478820264339447,\n",
              "  0.7227723002433777,\n",
              "  0.7223024964332581,\n",
              "  0.1000094786286354,\n",
              "  0.10258149355649948,\n",
              "  0.11564593017101288,\n",
              "  0.11248119175434113,\n",
              "  0.3034901022911072,\n",
              "  0.31088894605636597,\n",
              "  0.10297059267759323,\n",
              "  0.1390334814786911,\n",
              "  0.4783640503883362,\n",
              "  0.5870462656021118,\n",
              "  0.18866239488124847,\n",
              "  0.1740265190601349,\n",
              "  0.10550367087125778,\n",
              "  0.10221248120069504,\n",
              "  0.1752377599477768,\n",
              "  0.16242551803588867,\n",
              "  0.1088598370552063,\n",
              "  0.1057371124625206,\n",
              "  0.13698215782642365,\n",
              "  0.10025109350681305,\n",
              "  0.10000523924827576,\n",
              "  0.09999999403953552,\n",
              "  0.5109792947769165,\n",
              "  0.5264155864715576,\n",
              "  0.36790841817855835,\n",
              "  0.4929155111312866,\n",
              "  0.883295476436615,\n",
              "  0.8596265316009521,\n",
              "  0.5743479132652283,\n",
              "  0.5595178008079529,\n",
              "  0.2929617464542389,\n",
              "  0.23209670186042786,\n",
              "  0.2632976174354553,\n",
              "  0.26375284790992737,\n",
              "  0.43710005283355713,\n",
              "  0.4439212679862976,\n",
              "  0.10014761239290237,\n",
              "  0.1218557134270668,\n",
              "  1.1197094917297363,\n",
              "  1.0756251811981201,\n",
              "  0.11117267608642578,\n",
              "  0.10887052118778229,\n",
              "  0.37990838289260864,\n",
              "  0.36335402727127075,\n",
              "  0.5233345031738281,\n",
              "  0.444050669670105,\n",
              "  0.6775156855583191,\n",
              "  0.6770970821380615,\n",
              "  0.10001084953546524,\n",
              "  0.10000818222761154,\n",
              "  0.8166311979293823,\n",
              "  0.8163518309593201,\n",
              "  0.1000034362077713,\n",
              "  0.1000271812081337,\n",
              "  0.6092488765716553,\n",
              "  0.6085876822471619,\n",
              "  0.10001195222139359,\n",
              "  0.10045471042394638,\n",
              "  0.23683403432369232,\n",
              "  0.23308292031288147,\n",
              "  0.708283543586731,\n",
              "  0.6852028369903564,\n",
              "  0.10270732641220093,\n",
              "  0.10263093560934067,\n",
              "  0.44505372643470764,\n",
              "  0.4460113048553467,\n",
              "  0.11185892671346664,\n",
              "  0.11197077482938766,\n",
              "  0.6876235604286194],\n",
              " 0.6301775147928994,\n",
              " [0.026627218934911243,\n",
              "  0.5,\n",
              "  0.5769230769230769,\n",
              "  0.7011834319526628,\n",
              "  0.757396449704142,\n",
              "  0.8165680473372781,\n",
              "  0.8875739644970414,\n",
              "  0.9319526627218935,\n",
              "  0.9792899408284024,\n",
              "  0.9822485207100592])"
            ]
          },
          "execution_count": 95,
          "metadata": {},
          "output_type": "execute_result"
        },
        {
          "data": {
            "image/png": "[encoded data removed]",
            "text/plain": [
              "<Figure size 640x480 with 1 Axes>"
            ]
          },
          "metadata": {},
          "output_type": "display_data"
        }
      ],
      "source": [
        "eval_loop(model, criterion, character_embeddings, test_data)"
      ]
    },
    {
      "attachments": {},
      "cell_type": "markdown",
      "metadata": {},
      "source": [
        "## Plotting Embeddings"
      ]
    },
    {
      "cell_type": "code",
      "execution_count": null,
      "metadata": {
        "id": "rD_2gjxpDYaM"
      },
      "outputs": [],
      "source": [
        "# create a 2D plot of the vectors\n",
        "def plot_2d(vectors, labels):\n",
        "    tsne = TSNE(n_components=2, perplexity=1, random_state=0)\n",
        "    np.set_printoptions(suppress=True)\n",
        "    T = tsne.fit_transform(vectors)\n",
        "    labels = labels\n",
        "\n",
        "    df = px.data.iris()\n",
        "    fig = px.scatter(x=T[:,0], y=T[:,1], color=labels)\n",
        "    fig.show()"
      ]
    },
    {
      "cell_type": "code",
      "execution_count": null,
      "metadata": {
        "colab": {
          "base_uri": "https://localhost:8080/",
          "height": 542
        },
        "id": "4b9Ccw5TkviQ",
        "outputId": "3e56ec51-fbc5-442d-b6a5-58028f57db93"
      },
      "outputs": [],
      "source": [
        "plot_2d(character_embeddings.cpu().detach().numpy(), character_enum['character'])"
      ]
    },
    {
      "attachments": {},
      "cell_type": "markdown",
      "metadata": {},
      "source": [
        "## HyperParameter Search"
      ]
    },
    {
      "cell_type": "code",
      "execution_count": null,
      "metadata": {},
      "outputs": [],
      "source": [
        "# Set up hyperparameter for grid search\n",
        "character_embedding_dims = [4, 8, 16, 32, 64, 128]\n",
        "bert_dims = [768]\n",
        "edge_dims = [2, 4, 8, 16, 32, 64, 128]\n",
        "epochs = [1]\n",
        "iters_per_dialog = [1]"
      ]
    },
    {
      "cell_type": "code",
      "execution_count": null,
      "metadata": {},
      "outputs": [],
      "source": [
        "# save data here\n",
        "data = {}"
      ]
    },
    {
      "cell_type": "code",
      "execution_count": null,
      "metadata": {},
      "outputs": [],
      "source": [
        "# Save data to file as checkpoint\n",
        "with open('grid_search_data.pkl', 'wb') as f:\n",
        "    pickle.dump(data, f)"
      ]
    },
    {
      "cell_type": "code",
      "execution_count": null,
      "metadata": {},
      "outputs": [],
      "source": [
        "# Perform grid search\n",
        "for character_embedding_dim in character_embedding_dims:\n",
        "    for bert_dim in bert_dims:\n",
        "        for edge_dim in edge_dims:\n",
        "            for epoch_count in epochs:\n",
        "                for iters_count in iters_per_dialog:\n",
        "                    print('Testing: ', character_embedding_dim, bert_dim, edge_dim, epoch_count, iters_count)\n",
        "                    # Run the training loop\n",
        "                    hyperparameters = {'epochs': epoch_count, 'iters_per_dialog': iters_count}\n",
        "                    model = GCLWithHeadBert(character_embedding_dim, bert_dim, edge_dim, 1).to(torch_device)\n",
        "                    optimizer = torch.optim.Adam(model.parameters())\n",
        "                    criterion = SignedMSELoss()\n",
        "                    scheduler = get_scheduler(optimizer)\n",
        "                    character_embeddings = torch.rand((len(character_enum), character_embedding_dim)).to(torch_device)\n",
        "                    losses, all_losses, val_losses = train_loop(model, optimizer, criterion, scheduler, character_embeddings, train_data, valid_data, hyperparameters, print_every=10000)\n",
        "                    losses_eval, correctness, accuracies = eval_loop(model, criterion, character_embeddings, test_data, verbose=False)\n",
        "                    # save data here\n",
        "                    data[(character_embedding_dim, bert_dim, edge_dim, epoch_count, iters_count)] = (losses, all_losses, val_losses, losses_eval, correctness, accuracies)\n",
        "    \n",
        "    # Save data to file as checkpoint\n",
        "    with open('grid_search_data.pkl', 'wb') as f:\n",
        "        pickle.dump(data, f)\n"
      ]
    },
    {
      "cell_type": "code",
      "execution_count": null,
      "metadata": {},
      "outputs": [],
      "source": [
        "# Plot the following: Average loss value against values of edge_dim\n",
        "# (losses, all_losses, val_losses, losses_eval, correctness, accuracies)\n",
        "losses = []\n",
        "losses2 = []\n",
        "accuracies = []\n",
        "accuracies2 = []\n",
        "for edge_dim in edge_dims:\n",
        "    avg_losses = get_avg_losses(data[(16, 768, edge_dim, 1, 1)][1], 1011)\n",
        "    accuracies.append(data[(16, 768, edge_dim, 1, 1)][5][1])\n",
        "    losses.append(avg_losses[-1])\n",
        "\n",
        "for char_dim in character_embedding_dims:\n",
        "    avg_losses = get_avg_losses(data[(char_dim, 768, 16, 1, 1)][1], 1011)\n",
        "    accuracies2.append(data[(char_dim, 768, 16, 1, 1)][5][1])\n",
        "    losses2.append(avg_losses[-1])\n",
        "\n",
        "# Create four subplots \n",
        "fig, ((ax1, ax2), (ax3, ax4)) = plt.subplots(2, 2, figsize=(5, 5))\n",
        "# Add space between plots\n",
        "fig.tight_layout(pad=5.0)\n",
        "# Decrease font size\n",
        "plt.rcParams.update({'font.size': 8})\n",
        "ax1.plot(edge_dims, accuracies)\n",
        "ax1.set_title('Accuracy vs. Edge Dimension')\n",
        "ax1.set_xlabel('Edge Dimension')\n",
        "ax1.set_ylabel('Accuracy')\n",
        "ax2.plot(edge_dims, losses)\n",
        "ax2.set_title('Loss vs. Edge Dimension')\n",
        "ax2.set_xlabel('Edge Dimension')\n",
        "ax2.set_ylabel('Loss')\n",
        "ax3.plot(character_embedding_dims, accuracies2)\n",
        "ax3.set_title('Accuracy vs. Char Embed Dim')\n",
        "ax3.set_xlabel('Character Embedding Dimension')\n",
        "ax3.set_ylabel('Accuracy')\n",
        "ax4.plot(character_embedding_dims, losses2)\n",
        "ax4.set_title('Loss vs. Char Embed Dim')\n",
        "ax4.set_xlabel('Character Embedding Dimension')\n",
        "ax4.set_ylabel('Loss')\n",
        "plt.show()\n"
      ]
    },
    {
      "attachments": {},
      "cell_type": "markdown",
      "metadata": {},
      "source": [
        "## Manual Testing"
      ]
    },
    {
      "cell_type": "code",
      "execution_count": null,
      "metadata": {
        "colab": {
          "base_uri": "https://localhost:8080/"
        },
        "id": "gxXt5JOUliPt",
        "outputId": "37810e48-0680-485a-e8b2-0c5affcf166c"
      },
      "outputs": [],
      "source": [
        "character_translation = {index: name for index, name in enumerate(character_enum['character'])}\n",
        "juliet_side = [\"JULIET\", \"NURSE\", \"LADY CAPULET\", \"CAPULET\"]\n",
        "romeo_side = [\"ROMEO\", \"FRIAR LAWRENCE\", \"FRIAR JOHN\", \"BALTHASAR\", \"MERCUTIO\", \"BENVOLIO\", \"MONTAGUE\"]\n",
        "evil_side = [\"TYBALT\", \"PARIS\", \"PRINCE\", \"APOTHECARY\"]\n",
        "\n",
        "name_to_index = {v:k for k,v in character_translation.items()}\n",
        "juliet_indices = [name_to_index[name] for name in juliet_side]\n",
        "romeo_indices = [name_to_index[name] for name in romeo_side]\n",
        "evil_indices = [name_to_index[name] for name in evil_side]\n",
        "\n",
        "juliet_friends = [character_embeddings[index].detach().cpu().numpy() for index in juliet_indices]\n",
        "romeo_friends = [character_embeddings[index].detach().cpu().numpy() for index in romeo_indices]\n",
        "evil_friends = [character_embeddings[index].detach().cpu().numpy() for index in evil_indices]\n",
        "\n",
        "juliet = juliet_friends[0]\n",
        "romeo = romeo_friends[0]\n",
        "\n",
        "juliet_distances = [np.linalg.norm(juliet - friend) for friend in juliet_friends]\n",
        "romeo_distances = [np.linalg.norm(romeo - friend) for friend in romeo_friends]\n",
        "\n",
        "juliet_romeo_distances = [np.linalg.norm(juliet - other) for other in romeo_friends]\n",
        "juliet_evil_distances = [np.linalg.norm(juliet - other) for other in evil_friends]\n",
        "\n",
        "romeo_juliet_distances = [np.linalg.norm(romeo - other) for other in juliet_friends]\n",
        "romeo_evil_distances = [np.linalg.norm(romeo - other) for other in evil_friends]\n",
        "\n",
        "print(np.mean(juliet_distances), np.mean(juliet_romeo_distances), np.mean(juliet_evil_distances))\n",
        "print(np.mean(romeo_distances), np.mean(romeo_juliet_distances), np.mean(romeo_evil_distances))"
      ]
    }
  ],
  "metadata": {
    "accelerator": "GPU",
    "colab": {
      "provenance": []
    },
    "gpuClass": "standard",
    "kernelspec": {
      "display_name": "Python 3",
      "name": "python3"
    },
    "language_info": {
      "codemirror_mode": {
        "name": "ipython",
        "version": 3
      },
      "file_extension": ".py",
      "mimetype": "text/x-python",
      "name": "python",
      "nbconvert_exporter": "python",
      "pygments_lexer": "ipython3",
      "version": "3.7.10"
    }
  },
  "nbformat": 4,
  "nbformat_minor": 0
}
